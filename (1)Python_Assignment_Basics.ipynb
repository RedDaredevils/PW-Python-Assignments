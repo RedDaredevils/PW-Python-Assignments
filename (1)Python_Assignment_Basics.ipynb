{
 "cells": [
  {
   "cell_type": "markdown",
   "metadata": {
    "id": "wlrXY-1tjcJQ"
   },
   "source": [
    "**Python Assignment**"
   ]
  },
  {
   "cell_type": "markdown",
   "metadata": {
    "id": "4Nn3AcyckSeD"
   },
   "source": [
    "1.a)Simple and Readable Syntax:\n",
    "Python's syntax is clean and easy to read\n",
    "\n",
    "b)Python has many libraries:\n",
    "It has many libaries for many uses\n",
    "\n",
    "c)Python has easy codes:\n",
    "It has line-by-line codes"
   ]
  },
  {
   "cell_type": "markdown",
   "metadata": {
    "id": "bOWOxYFwtLMa"
   },
   "source": [
    "2.Keywords have special meanings and serve as building blocks for Python code\n",
    "\n",
    "a)print()"
   ]
  },
  {
   "cell_type": "code",
   "execution_count": 5,
   "metadata": {
    "colab": {
     "base_uri": "https://localhost:8080/"
    },
    "id": "MiRxCt9xWQxw",
    "outputId": "901f8232-f9d7-4fc5-c9e1-83aa47c65781"
   },
   "outputs": [
    {
     "name": "stdout",
     "output_type": "stream",
     "text": [
      "Hello\n"
     ]
    }
   ],
   "source": [
    "a=print(\"Hello\")\n",
    "a"
   ]
  },
  {
   "cell_type": "markdown",
   "metadata": {
    "id": "u-9lpD7GWcM5"
   },
   "source": [
    "b)type()"
   ]
  },
  {
   "cell_type": "code",
   "execution_count": 7,
   "metadata": {
    "colab": {
     "base_uri": "https://localhost:8080/"
    },
    "id": "e5XswHzfWlN3",
    "outputId": "c3f87d87-5a87-4342-ed66-759f4387b296"
   },
   "outputs": [
    {
     "data": {
      "text/plain": [
       "float"
      ]
     },
     "execution_count": 7,
     "metadata": {},
     "output_type": "execute_result"
    }
   ],
   "source": [
    "b=30.3\n",
    "type(b)"
   ]
  },
  {
   "cell_type": "markdown",
   "metadata": {
    "id": "zucckRyvW873"
   },
   "source": [
    "c)help()"
   ]
  },
  {
   "cell_type": "code",
   "execution_count": 9,
   "metadata": {
    "colab": {
     "base_uri": "https://localhost:8080/"
    },
    "id": "K6Eim0DUXZzT",
    "outputId": "3e091603-e993-429e-a212-5afa34f434ea"
   },
   "outputs": [
    {
     "name": "stdout",
     "output_type": "stream",
     "text": [
      "Help on built-in function print in module builtins:\n",
      "\n",
      "print(*args, sep=' ', end='\\n', file=None, flush=False)\n",
      "    Prints the values to a stream, or to sys.stdout by default.\n",
      "\n",
      "    sep\n",
      "      string inserted between values, default a space.\n",
      "    end\n",
      "      string appended after the last value, default a newline.\n",
      "    file\n",
      "      a file-like object (stream); defaults to the current sys.stdout.\n",
      "    flush\n",
      "      whether to forcibly flush the stream.\n",
      "\n"
     ]
    }
   ],
   "source": [
    "help(print)"
   ]
  },
  {
   "cell_type": "markdown",
   "metadata": {
    "id": "70WA0RYRXd9G"
   },
   "source": [
    "d)if()"
   ]
  },
  {
   "cell_type": "code",
   "execution_count": 11,
   "metadata": {
    "colab": {
     "base_uri": "https://localhost:8080/"
    },
    "id": "IRPFaKylX0xY",
    "outputId": "98720c13-7889-434e-d33c-5d5837da7772"
   },
   "outputs": [
    {
     "name": "stdout",
     "output_type": "stream",
     "text": [
      "greater\n"
     ]
    }
   ],
   "source": [
    "if 3 > 2:\n",
    "    print(\"greater\")"
   ]
  },
  {
   "cell_type": "markdown",
   "metadata": {
    "id": "LcedXpe6X2t9"
   },
   "source": [
    "e)elif()"
   ]
  },
  {
   "cell_type": "code",
   "execution_count": 13,
   "metadata": {
    "colab": {
     "base_uri": "https://localhost:8080/"
    },
    "id": "RL8gaf7AYu6p",
    "outputId": "d890eca2-fb52-4316-fdd7-b7cc8d9402cf"
   },
   "outputs": [
    {
     "name": "stdout",
     "output_type": "stream",
     "text": [
      "Equal to 100\n"
     ]
    }
   ],
   "source": [
    "r=100\n",
    "if r<10:\n",
    "  print(\"Greater than 10\")\n",
    "elif r==100:\n",
    "  print(\"Equal to 100\")\n",
    "else:\n",
    "  print(\"other number\")"
   ]
  },
  {
   "cell_type": "markdown",
   "metadata": {
    "id": "bvaG9ofykpM_"
   },
   "source": [
    "3)Mutable Objects:\n",
    "\n",
    "Mutable objects are those can be changed after they are created.\n",
    "\n",
    "*Lists\n",
    "\n",
    "*Dictionaries\n",
    "\n",
    "*Sets\n",
    "\n",
    "*Byte Arrays\n"
   ]
  },
  {
   "cell_type": "code",
   "execution_count": 15,
   "metadata": {
    "colab": {
     "base_uri": "https://localhost:8080/"
    },
    "id": "-ToEgNNYlPv8",
    "outputId": "6f01c4d1-2bf2-4e02-94c7-1caf29500663"
   },
   "outputs": [
    {
     "name": "stdout",
     "output_type": "stream",
     "text": [
      "2207630941184\n",
      "[10, 2, 3]\n",
      "2207630941184\n"
     ]
    }
   ],
   "source": [
    "my_list = [1, 2, 3]\n",
    "print(id(my_list))  # Output: e.g., 140507182134928 (memory address)\n",
    "\n",
    "# Modify the list\n",
    "my_list[0] = 10\n",
    "print(my_list)  # Output: [10, 2, 3]\n",
    "print(id(my_list))  # Same memory address as before, indicating that the object was modified in place.\n"
   ]
  },
  {
   "cell_type": "markdown",
   "metadata": {
    "id": "NgDim2-7lTCF"
   },
   "source": [
    "Immutable Objects:\n",
    "Immutable objects are those whose state cannot be changed after they are created.\n",
    "\n",
    "*Integers (int)\n",
    "\n",
    "*Floats (float)\n",
    "\n",
    "*Strings (str)\n",
    "\n",
    "*Tuples (tuple)\n",
    "\n",
    "*Booleans (bool)"
   ]
  },
  {
   "cell_type": "code",
   "execution_count": 17,
   "metadata": {
    "colab": {
     "base_uri": "https://localhost:8080/"
    },
    "id": "F_31ZIbJmCs6",
    "outputId": "bbf80dcb-9835-4ef4-bf08-979ce5822f8b"
   },
   "outputs": [
    {
     "name": "stdout",
     "output_type": "stream",
     "text": [
      "2209745880768\n",
      "Hello World\n",
      "2209737771120\n"
     ]
    }
   ],
   "source": [
    "s = \"Hello\"\n",
    "print(id(s))  # Output: e.g., 140507182136640 (memory address)\n",
    "\n",
    "# Modify the string\n",
    "s = s + \" World\"\n",
    "print(s)  # Output: \"Hello World\"\n",
    "print(id(s))  # Different memory address, indicating a new string object was created.\n"
   ]
  },
  {
   "cell_type": "markdown",
   "metadata": {
    "id": "4ORsYOlAnST3"
   },
   "source": [
    "4)Types of operators in python:\n",
    "\n",
    "a)Arithmetic Operators:\n",
    "\n",
    "Addition\n",
    "\n",
    "Subtraction\n",
    "\n",
    "Multiplication\n",
    "\n",
    "Division\n",
    "\n",
    "Floor Division\n",
    "\n",
    "Modulus (Remainder)\n",
    "\n",
    "Exponentiation"
   ]
  },
  {
   "cell_type": "code",
   "execution_count": 19,
   "metadata": {
    "colab": {
     "base_uri": "https://localhost:8080/"
    },
    "id": "4f3Lb6o7onsH",
    "outputId": "e8dcc392-634b-4ff9-fd75-4d7193008b80"
   },
   "outputs": [
    {
     "name": "stdout",
     "output_type": "stream",
     "text": [
      "13\n",
      "7\n",
      "30\n",
      "3.3333333333333335\n",
      "3\n",
      "1\n",
      "1000\n"
     ]
    }
   ],
   "source": [
    "a = 10\n",
    "b = 3\n",
    "print(a + b)  # Output: 13\n",
    "print(a - b)  # Output: 7\n",
    "print(a * b)  # Output: 30\n",
    "print(a / b)  # Output: 3.3333333333333335\n",
    "print(a // b)  # Output: 3\n",
    "print(a % b)  # Output: 1\n",
    "print(a ** b)  # Output: 1000\n"
   ]
  },
  {
   "cell_type": "markdown",
   "metadata": {
    "id": "iGqhm1nWopX2"
   },
   "source": [
    "b)Comparison Operators:\n",
    "\n",
    "Equal to\n",
    "\n",
    "Not equal\n",
    "\n",
    "Greater than\n",
    "\n",
    "Less than\n",
    "\n",
    "Greater than or equal\n",
    "\n",
    "Less than or equal"
   ]
  },
  {
   "cell_type": "code",
   "execution_count": 21,
   "metadata": {
    "colab": {
     "base_uri": "https://localhost:8080/"
    },
    "id": "IfNYfgldpMND",
    "outputId": "37e6c421-f860-4788-da1c-69abe19727b2"
   },
   "outputs": [
    {
     "name": "stdout",
     "output_type": "stream",
     "text": [
      "True\n",
      "False\n",
      "False\n",
      "True\n"
     ]
    }
   ],
   "source": [
    "x = 7\n",
    "y = 5\n",
    "print(x > y)  # Output: True\n",
    "print(x < y)  # Output: False\n",
    "print(x == y)  # Output: False\n",
    "print(x != y)  # Output: True\n"
   ]
  },
  {
   "cell_type": "markdown",
   "metadata": {
    "id": "gaY5oQw-pNmV"
   },
   "source": [
    "c)Logical Operators:\n",
    "\n",
    "and\n",
    "\n",
    "or\n",
    "\n",
    "not"
   ]
  },
  {
   "cell_type": "code",
   "execution_count": 23,
   "metadata": {
    "colab": {
     "base_uri": "https://localhost:8080/"
    },
    "id": "GttSzj2TpkGv",
    "outputId": "d856861b-d9bc-4fc8-d0a7-93674803f3f5"
   },
   "outputs": [
    {
     "name": "stdout",
     "output_type": "stream",
     "text": [
      "True\n",
      "True\n",
      "True\n"
     ]
    }
   ],
   "source": [
    "a = 5\n",
    "b = 3\n",
    "print(a > 2 and b > 2)  # Output: True\n",
    "print(a > 6 or b < 4)   # Output: True\n",
    "print(not (a < 3))      # Output: True\n"
   ]
  },
  {
   "cell_type": "markdown",
   "metadata": {
    "id": "6fLFMFurppXV"
   },
   "source": [
    "d)Assignment Operators:\n",
    "Assign\n",
    "\n",
    "Add and assign\n",
    "\n",
    "Subtract and assign\n",
    "\n",
    "Multiply and assign\n",
    "\n",
    "Divide and assign\n",
    "\n",
    "Floor divide and assign\n",
    "\n",
    "Modulus and assign\n",
    "\n",
    "Exponent and assign"
   ]
  },
  {
   "cell_type": "code",
   "execution_count": 25,
   "metadata": {
    "colab": {
     "base_uri": "https://localhost:8080/"
    },
    "id": "1hyhntYUqeNj",
    "outputId": "401a7181-3482-4e89-f230-de132201d7d1"
   },
   "outputs": [
    {
     "name": "stdout",
     "output_type": "stream",
     "text": [
      "8\n",
      "16\n"
     ]
    }
   ],
   "source": [
    "x = 5\n",
    "x += 3  # Equivalent to x = x + 3\n",
    "print(x)  # Output: 8\n",
    "\n",
    "x *= 2  # Equivalent to x = x * 2\n",
    "print(x)  # Output: 16\n"
   ]
  },
  {
   "cell_type": "markdown",
   "metadata": {
    "id": "9OFVFDM1rNFC"
   },
   "source": [
    "e)Bitwise Operators:\n",
    "AND\n",
    "\n",
    "OR\n",
    "\n",
    "XOR\n",
    "\n",
    "NOT\n",
    "\n",
    "Left Shift\n",
    "\n",
    "Right Shift"
   ]
  },
  {
   "cell_type": "code",
   "execution_count": 27,
   "metadata": {
    "colab": {
     "base_uri": "https://localhost:8080/"
    },
    "id": "TKsHbP1ArpzM",
    "outputId": "c2374a84-8377-417a-9d3b-036df2c8fb88"
   },
   "outputs": [
    {
     "name": "stdout",
     "output_type": "stream",
     "text": [
      "1\n",
      "7\n",
      "6\n",
      "-6\n"
     ]
    }
   ],
   "source": [
    "a = 5  # Binary: 101\n",
    "b = 3  # Binary: 011\n",
    "print(a & b)  # Output: 1 (Binary: 001)\n",
    "print(a | b)  # Output: 7 (Binary: 111)\n",
    "print(a ^ b)  # Output: 6 (Binary: 110)\n",
    "print(~a)     # Output: -6 (Inverts bits)\n"
   ]
  },
  {
   "cell_type": "markdown",
   "metadata": {
    "id": "AJTPQQVDtL-Y"
   },
   "source": [
    "5)Type casting in Python refers to the process of converting one data type into another.\n",
    "\n",
    "Common Functions for Explicit Type Casting:\n",
    "\n",
    "int(): Converts a value to an integer.\n",
    "\n",
    "float(): Converts a value to a float.\n",
    "\n",
    "str(): Converts a value to a string.\n",
    "\n",
    "list(): Converts a value to a list.\n",
    "\n",
    "tuple(): Converts a value to a tuple.\n",
    "\n",
    "set(): Converts a value to a set.\n",
    "\n",
    "dict(): Converts a value to a dictionary"
   ]
  },
  {
   "cell_type": "markdown",
   "metadata": {
    "id": "KaNuxn3-e-fp"
   },
   "source": [
    "Converting String to Integer:"
   ]
  },
  {
   "cell_type": "code",
   "execution_count": 30,
   "metadata": {
    "colab": {
     "base_uri": "https://localhost:8080/"
    },
    "id": "hjj7zIktfA08",
    "outputId": "0413b0ec-d691-4aec-fb2e-07db95a802d9"
   },
   "outputs": [
    {
     "name": "stdout",
     "output_type": "stream",
     "text": [
      "100\n",
      "<class 'int'>\n"
     ]
    }
   ],
   "source": [
    "num_str = \"100\"\n",
    "num_int = int(num_str)\n",
    "print(num_int)  # Output: 100\n",
    "print(type(num_int))  # Output: <class 'int'>\n"
   ]
  },
  {
   "cell_type": "markdown",
   "metadata": {
    "id": "eDHKtT2-fHfa"
   },
   "source": [
    "Converting Float to Integer:"
   ]
  },
  {
   "cell_type": "code",
   "execution_count": 32,
   "metadata": {
    "colab": {
     "base_uri": "https://localhost:8080/"
    },
    "id": "LKXGgjklfIzx",
    "outputId": "5c21170f-fe3d-406e-b95e-296406cc4142"
   },
   "outputs": [
    {
     "name": "stdout",
     "output_type": "stream",
     "text": [
      "10\n"
     ]
    }
   ],
   "source": [
    "num_float = 10.6\n",
    "num_int = int(num_float)\n",
    "print(num_int)  # Output: 10\n"
   ]
  },
  {
   "cell_type": "markdown",
   "metadata": {
    "id": "beO6YN9_fUbR"
   },
   "source": [
    "Converting Integer to Float:"
   ]
  },
  {
   "cell_type": "code",
   "execution_count": 34,
   "metadata": {
    "colab": {
     "base_uri": "https://localhost:8080/"
    },
    "id": "iFseevkIfVQW",
    "outputId": "d468439f-18c6-43eb-fd3c-98718516c3c8"
   },
   "outputs": [
    {
     "name": "stdout",
     "output_type": "stream",
     "text": [
      "5.0\n",
      "<class 'float'>\n"
     ]
    }
   ],
   "source": [
    "num_int = 5\n",
    "num_float = float(num_int)\n",
    "print(num_float)  # Output: 5.0\n",
    "print(type(num_float))  # Output: <class 'float'>\n"
   ]
  },
  {
   "cell_type": "markdown",
   "metadata": {
    "id": "t1g6RvcbfXvA"
   },
   "source": [
    "Converting Integer to String:"
   ]
  },
  {
   "cell_type": "code",
   "execution_count": 36,
   "metadata": {
    "colab": {
     "base_uri": "https://localhost:8080/"
    },
    "id": "bWVud7Ldfav8",
    "outputId": "8e4acd08-975e-450c-9357-418b873090f1"
   },
   "outputs": [
    {
     "name": "stdout",
     "output_type": "stream",
     "text": [
      "123\n",
      "<class 'str'>\n"
     ]
    }
   ],
   "source": [
    "num_int = 123\n",
    "num_str = str(num_int)\n",
    "print(num_str)  # Output: \"123\"\n",
    "print(type(num_str))  # Output: <class 'str'>\n"
   ]
  },
  {
   "cell_type": "markdown",
   "metadata": {
    "id": "w7h-LAI7feJh"
   },
   "source": [
    "Converting List to Tuple:"
   ]
  },
  {
   "cell_type": "code",
   "execution_count": 38,
   "metadata": {
    "colab": {
     "base_uri": "https://localhost:8080/"
    },
    "id": "YD7qD6gGfgeB",
    "outputId": "4a8abc49-dbc9-4add-d442-1bcd4f5e2807"
   },
   "outputs": [
    {
     "name": "stdout",
     "output_type": "stream",
     "text": [
      "(1, 2, 3, 4)\n",
      "<class 'tuple'>\n"
     ]
    }
   ],
   "source": [
    "my_list = [1, 2, 3, 4]\n",
    "my_tuple = tuple(my_list)\n",
    "print(my_tuple)  # Output: (1, 2, 3, 4)\n",
    "print(type(my_tuple))  # Output: <class 'tuple'>\n"
   ]
  },
  {
   "cell_type": "markdown",
   "metadata": {
    "id": "EVcBFgCIfitV"
   },
   "source": [
    "Converting List of Tuples to Dictionary:"
   ]
  },
  {
   "cell_type": "code",
   "execution_count": 40,
   "metadata": {
    "colab": {
     "base_uri": "https://localhost:8080/"
    },
    "id": "E6drdqk-fk9R",
    "outputId": "c88dc083-c39f-4fd1-8096-b5a6a3648709"
   },
   "outputs": [
    {
     "name": "stdout",
     "output_type": "stream",
     "text": [
      "{'a': 1, 'b': 2, 'c': 3}\n"
     ]
    }
   ],
   "source": [
    "my_list = [(\"a\", 1), (\"b\", 2), (\"c\", 3)]\n",
    "my_dict = dict(my_list)\n",
    "print(my_dict)  # Output: {'a': 1, 'b': 2, 'c': 3}\n"
   ]
  },
  {
   "cell_type": "markdown",
   "metadata": {
    "id": "ndftGAmdfoK6"
   },
   "source": [
    "Converting String to List:"
   ]
  },
  {
   "cell_type": "code",
   "execution_count": 42,
   "metadata": {
    "colab": {
     "base_uri": "https://localhost:8080/"
    },
    "id": "uJzgIGHVfsBA",
    "outputId": "13892ec9-8832-4b9f-a7e5-c85a56ec2df6"
   },
   "outputs": [
    {
     "name": "stdout",
     "output_type": "stream",
     "text": [
      "['h', 'e', 'l', 'l', 'o']\n"
     ]
    }
   ],
   "source": [
    "my_string = \"hello\"\n",
    "my_list = list(my_string)\n",
    "print(my_list)  # Output: ['h', 'e', 'l', 'l', 'o']\n"
   ]
  },
  {
   "cell_type": "markdown",
   "metadata": {
    "id": "eR3XVUU_gGOm"
   },
   "source": [
    "6)Conditional statements in Python are used to execute specific blocks of code based on whether a condition (or set of conditions) evaluates to True or False.\n",
    "\n",
    "Types of Conditional Statements in Python:\n",
    "\n",
    "if Statement\n",
    "\n",
    "if-else Statement\n",
    "\n",
    "if-elif-else Statement\n",
    "\n",
    "Nested if Statement"
   ]
  },
  {
   "cell_type": "markdown",
   "metadata": {
    "id": "n7gJdLf3g9L5"
   },
   "source": [
    "a) if Statement"
   ]
  },
  {
   "cell_type": "code",
   "execution_count": 45,
   "metadata": {
    "colab": {
     "base_uri": "https://localhost:8080/"
    },
    "id": "IivHvbfWhEWa",
    "outputId": "3258c4e7-6331-45a6-c3ac-b7716aff472f"
   },
   "outputs": [
    {
     "name": "stdout",
     "output_type": "stream",
     "text": [
      "The number is greater than 5.\n"
     ]
    }
   ],
   "source": [
    "num = 10\n",
    "if num > 5:\n",
    "    print(\"The number is greater than 5.\")\n",
    "# Output: The number is greater than 5.\n"
   ]
  },
  {
   "cell_type": "markdown",
   "metadata": {
    "id": "42AB5M4ihNFZ"
   },
   "source": [
    "b) if-else Statement"
   ]
  },
  {
   "cell_type": "code",
   "execution_count": 47,
   "metadata": {
    "colab": {
     "base_uri": "https://localhost:8080/"
    },
    "id": "b6zuhn71hTni",
    "outputId": "73669f91-d878-4ca0-d51f-43ecf2b084d1"
   },
   "outputs": [
    {
     "name": "stdout",
     "output_type": "stream",
     "text": [
      "The number is less than or equal to 5.\n"
     ]
    }
   ],
   "source": [
    "num = 3\n",
    "if num > 5:\n",
    "    print(\"The number is greater than 5.\")\n",
    "else:\n",
    "    print(\"The number is less than or equal to 5.\")\n",
    "# Output: The number is less than or equal to 5.\n"
   ]
  },
  {
   "cell_type": "markdown",
   "metadata": {
    "id": "jTmSOLnjhZ1C"
   },
   "source": [
    "c) if-elif-else Statement"
   ]
  },
  {
   "cell_type": "code",
   "execution_count": 49,
   "metadata": {
    "colab": {
     "base_uri": "https://localhost:8080/"
    },
    "id": "ECRSLBSohl8o",
    "outputId": "0d8c0924-12b8-42e4-ba22-fa5ff1ae8e29"
   },
   "outputs": [
    {
     "name": "stdout",
     "output_type": "stream",
     "text": [
      "The number is greater than 5 but less than 10.\n"
     ]
    }
   ],
   "source": [
    "num = 8\n",
    "if num > 10:\n",
    "    print(\"The number is greater than 10.\")\n",
    "elif num == 10:\n",
    "    print(\"The number is equal to 10.\")\n",
    "elif num > 5:\n",
    "    print(\"The number is greater than 5 but less than 10.\")\n",
    "else:\n",
    "    print(\"The number is 5 or less.\")\n",
    "# Output: The number is greater than 5 but less than 10.\n"
   ]
  },
  {
   "cell_type": "markdown",
   "metadata": {
    "id": "bZMb1IKChplg"
   },
   "source": [
    "d) Nested if Statement"
   ]
  },
  {
   "cell_type": "code",
   "execution_count": 51,
   "metadata": {
    "colab": {
     "base_uri": "https://localhost:8080/"
    },
    "id": "aUIlm1uahuTP",
    "outputId": "03d558df-3413-46a8-88bb-8c0512a43853"
   },
   "outputs": [
    {
     "name": "stdout",
     "output_type": "stream",
     "text": [
      "The number is greater than 10.\n",
      "The number is odd.\n"
     ]
    }
   ],
   "source": [
    "num = 15\n",
    "if num > 10:\n",
    "    print(\"The number is greater than 10.\")\n",
    "    if num % 2 == 0:\n",
    "        print(\"The number is also even.\")\n",
    "    else:\n",
    "        print(\"The number is odd.\")\n",
    "# Output:\n",
    "# The number is greater than 10.\n",
    "# The number is odd.\n"
   ]
  },
  {
   "cell_type": "markdown",
   "metadata": {
    "id": "zaOdX3zih_35"
   },
   "source": [
    "7) Types of loops:\n",
    "\n",
    "for Loop"
   ]
  },
  {
   "cell_type": "code",
   "execution_count": 53,
   "metadata": {
    "colab": {
     "base_uri": "https://localhost:8080/"
    },
    "id": "jA9koGrriWIf",
    "outputId": "3fed0575-2baf-469b-dc31-e00bec71952e"
   },
   "outputs": [
    {
     "name": "stdout",
     "output_type": "stream",
     "text": [
      "apple\n",
      "banana\n",
      "cherry\n"
     ]
    }
   ],
   "source": [
    "fruits = [\"apple\", \"banana\", \"cherry\"]\n",
    "for fruit in fruits:\n",
    "    print(fruit)\n",
    "# Output:\n",
    "# apple\n",
    "# banana\n",
    "# cherry\n"
   ]
  },
  {
   "cell_type": "markdown",
   "metadata": {
    "id": "ZO1hmse-ib2G"
   },
   "source": [
    "while Loop"
   ]
  },
  {
   "cell_type": "code",
   "execution_count": 55,
   "metadata": {
    "colab": {
     "base_uri": "https://localhost:8080/"
    },
    "id": "si7ykIJGifbP",
    "outputId": "e1623dc8-de53-462d-83ca-e3a2da311704"
   },
   "outputs": [
    {
     "name": "stdout",
     "output_type": "stream",
     "text": [
      "0\n",
      "1\n",
      "2\n",
      "3\n",
      "4\n"
     ]
    }
   ],
   "source": [
    "count = 0\n",
    "while count < 5:\n",
    "    print(count)\n",
    "    count += 1\n",
    "# Output:\n",
    "# 0\n",
    "# 1\n",
    "# 2\n",
    "# 3\n",
    "# 4\n"
   ]
  },
  {
   "cell_type": "markdown",
   "metadata": {
    "id": "JzzzTUTbijPM"
   },
   "source": [
    "break Statement"
   ]
  },
  {
   "cell_type": "code",
   "execution_count": 57,
   "metadata": {
    "colab": {
     "base_uri": "https://localhost:8080/"
    },
    "id": "ZA2P5j-iilHG",
    "outputId": "2d3829bc-f42f-451f-fee8-2a3e6c8d2da6"
   },
   "outputs": [
    {
     "name": "stdout",
     "output_type": "stream",
     "text": [
      "0\n",
      "1\n",
      "2\n"
     ]
    }
   ],
   "source": [
    "for i in range(5):\n",
    "    if i == 3:\n",
    "        break\n",
    "    print(i)\n",
    "# Output:\n",
    "# 0\n",
    "# 1\n",
    "# 2\n"
   ]
  },
  {
   "cell_type": "markdown",
   "metadata": {
    "id": "c-63aWUCioFj"
   },
   "source": [
    "continue Statement"
   ]
  },
  {
   "cell_type": "code",
   "execution_count": 59,
   "metadata": {
    "colab": {
     "base_uri": "https://localhost:8080/"
    },
    "id": "UQW0wD8Riqmz",
    "outputId": "46fdb32a-d375-4fa2-f038-117d08eaabbd"
   },
   "outputs": [
    {
     "name": "stdout",
     "output_type": "stream",
     "text": [
      "0\n",
      "1\n",
      "2\n",
      "4\n"
     ]
    }
   ],
   "source": [
    "for i in range(5):\n",
    "    if i == 3:\n",
    "        continue\n",
    "    print(i)\n",
    "# Output:\n",
    "# 0\n",
    "# 1\n",
    "# 2\n",
    "# 4\n"
   ]
  },
  {
   "cell_type": "markdown",
   "metadata": {
    "id": "siSbYDJVivZW"
   },
   "source": [
    "else Clause with Loops"
   ]
  },
  {
   "cell_type": "code",
   "execution_count": 61,
   "metadata": {
    "colab": {
     "base_uri": "https://localhost:8080/"
    },
    "id": "dV-oJ4jcjXEb",
    "outputId": "b48a989b-259b-4289-dd1b-47bf306e1fc5"
   },
   "outputs": [
    {
     "name": "stdout",
     "output_type": "stream",
     "text": [
      "0\n",
      "1\n",
      "2\n",
      "3\n",
      "4\n",
      "Loop completed.\n"
     ]
    }
   ],
   "source": [
    "for i in range(5):\n",
    "    print(i)\n",
    "else:\n",
    "    print(\"Loop completed.\")\n",
    "# Output:\n",
    "# 0\n",
    "# 1\n",
    "# 2\n",
    "# 3\n",
    "# 4\n",
    "# Loop completed.\n"
   ]
  }
 ],
 "metadata": {
  "colab": {
   "provenance": []
  },
  "kernelspec": {
   "display_name": "Python 3 (ipykernel)",
   "language": "python",
   "name": "python3"
  },
  "language_info": {
   "codemirror_mode": {
    "name": "ipython",
    "version": 3
   },
   "file_extension": ".py",
   "mimetype": "text/x-python",
   "name": "python",
   "nbconvert_exporter": "python",
   "pygments_lexer": "ipython3",
   "version": "3.12.4"
  }
 },
 "nbformat": 4,
 "nbformat_minor": 4
}
