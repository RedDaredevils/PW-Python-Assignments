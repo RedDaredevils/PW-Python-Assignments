{
  "nbformat": 4,
  "nbformat_minor": 0,
  "metadata": {
    "colab": {
      "provenance": []
    },
    "kernelspec": {
      "name": "python3",
      "display_name": "Python 3"
    },
    "language_info": {
      "name": "python"
    }
  },
  "cells": [
    {
      "cell_type": "markdown",
      "source": [
        "**Practical Questions**\n",
        "\n",
        "**(1)**"
      ],
      "metadata": {
        "id": "esfio7mJoxV4"
      }
    },
    {
      "cell_type": "code",
      "execution_count": null,
      "metadata": {
        "id": "pSUXPwaVXWBS",
        "colab": {
          "base_uri": "https://localhost:8080/"
        },
        "outputId": "28b03304-b44a-44dd-e83a-28c390e01e45"
      },
      "outputs": [
        {
          "name": "stdout",
          "output_type": "stream",
          "text": [
            "6789\n"
          ]
        },
        {
          "output_type": "execute_result",
          "data": {
            "text/plain": [
              "14"
            ]
          },
          "metadata": {},
          "execution_count": 1
        }
      ],
      "source": [
        "my_list =int(input())\n",
        "def int_to_list(n):\n",
        "    return [int(digit) for digit in str(n)]\n",
        "v=int_to_list(my_list)\n",
        "def sum_of_even_numbers(numbers):\n",
        "    total = 0\n",
        "    for num in numbers:\n",
        "        if num % 2 == 0:  # Check if the number is even\n",
        "            total += num\n",
        "    return total\n",
        "sum_of_even_numbers(v)"
      ]
    },
    {
      "cell_type": "markdown",
      "source": [
        "**(2)**"
      ],
      "metadata": {
        "id": "uPylofkro8jw"
      }
    },
    {
      "cell_type": "code",
      "source": [
        "python_string=input()\n",
        "reverse_string=python_string[::-1]\n",
        "reverse_string"
      ],
      "metadata": {
        "colab": {
          "base_uri": "https://localhost:8080/",
          "height": 53
        },
        "id": "hTLRi5Mto_iq",
        "outputId": "705c4e1a-e81e-400b-b23a-9e4fb19c5471"
      },
      "execution_count": null,
      "outputs": [
        {
          "name": "stdout",
          "output_type": "stream",
          "text": [
            "adeel\n"
          ]
        },
        {
          "output_type": "execute_result",
          "data": {
            "text/plain": [
              "'leeda'"
            ],
            "application/vnd.google.colaboratory.intrinsic+json": {
              "type": "string"
            }
          },
          "metadata": {},
          "execution_count": 2
        }
      ]
    },
    {
      "cell_type": "markdown",
      "source": [
        "**(3)**"
      ],
      "metadata": {
        "id": "2GyTT7wo0zgH"
      }
    },
    {
      "cell_type": "code",
      "source": [
        "def square_numbers(numbers):\n",
        "    return [num ** 2 for num in numbers]\n",
        "\n",
        "# Input as a space-separated string of numbers\n",
        "numbers = list(map(int, input(\"Enter numbers separated by spaces: \").split()))\n",
        "\n",
        "result = square_numbers(numbers)\n",
        "print(result)\n"
      ],
      "metadata": {
        "id": "Q4kQVek-03kn",
        "colab": {
          "base_uri": "https://localhost:8080/"
        },
        "outputId": "2baa1b6e-284f-4a75-86d2-0b62fdb6c5a8"
      },
      "execution_count": null,
      "outputs": [
        {
          "output_type": "stream",
          "name": "stdout",
          "text": [
            "Enter numbers separated by spaces: 1 2 3 4\n",
            "[1, 4, 9, 16]\n"
          ]
        }
      ]
    },
    {
      "cell_type": "markdown",
      "source": [
        "**(4)**"
      ],
      "metadata": {
        "id": "V1NjpNiXQFXS"
      }
    },
    {
      "cell_type": "code",
      "source": [
        "def is_prime(n):\n",
        "    if n < 2:\n",
        "        return False\n",
        "    for i in range(2, int(n ** 0.5) + 1):\n",
        "        if n % i == 0:\n",
        "            return False\n",
        "    return True\n",
        "\n",
        "prime_numbers = [num for num in range(1, 201) if is_prime(num)]\n",
        "print(prime_numbers)\n"
      ],
      "metadata": {
        "colab": {
          "base_uri": "https://localhost:8080/"
        },
        "id": "nDRImGB-QHvp",
        "outputId": "70506448-1291-4aba-a1fa-7c408300b5e8"
      },
      "execution_count": null,
      "outputs": [
        {
          "output_type": "stream",
          "name": "stdout",
          "text": [
            "[2, 3, 5, 7, 11, 13, 17, 19, 23, 29, 31, 37, 41, 43, 47, 53, 59, 61, 67, 71, 73, 79, 83, 89, 97, 101, 103, 107, 109, 113, 127, 131, 137, 139, 149, 151, 157, 163, 167, 173, 179, 181, 191, 193, 197, 199]\n"
          ]
        }
      ]
    },
    {
      "cell_type": "markdown",
      "source": [
        "**(5)**"
      ],
      "metadata": {
        "id": "kjyadG5ocOlC"
      }
    },
    {
      "cell_type": "code",
      "source": [
        "class Fibonacci:\n",
        "    def __init__(self, num_terms):\n",
        "        self.num_terms = num_terms  # Number of terms to generate\n",
        "        self.a = 0  # First term\n",
        "        self.b = 1  # Second term\n",
        "        self.count = 0  # Counter to keep track of the number of terms\n",
        "\n",
        "    def __iter__(self):\n",
        "        return self\n",
        "\n",
        "    def __next__(self):\n",
        "        if self.count >= self.num_terms:\n",
        "            raise StopIteration  # Stop when we reach the specified number of terms\n",
        "        self.count += 1\n",
        "        fib_number = self.a  # Store the current value of `a` to return\n",
        "        self.a, self.b = self.b, self.a + self.b  # Move to the next terms\n",
        "        return fib_number\n",
        "# Create an instance of the Fibonacci class with the number of terms you want\n",
        "f=int(input())\n",
        "fib = Fibonacci(f)\n",
        "\n",
        "# Use a for loop to print the sequence\n",
        "for num in fib:\n",
        "    print(num)\n"
      ],
      "metadata": {
        "colab": {
          "base_uri": "https://localhost:8080/"
        },
        "id": "XvT7j0J5cSub",
        "outputId": "9dcb0482-6997-4c75-a495-e0192c4fc6be"
      },
      "execution_count": null,
      "outputs": [
        {
          "output_type": "stream",
          "name": "stdout",
          "text": [
            "20\n",
            "0\n",
            "1\n",
            "1\n",
            "2\n",
            "3\n",
            "5\n",
            "8\n",
            "13\n",
            "21\n",
            "34\n",
            "55\n",
            "89\n",
            "144\n",
            "233\n",
            "377\n",
            "610\n",
            "987\n",
            "1597\n",
            "2584\n",
            "4181\n"
          ]
        }
      ]
    },
    {
      "cell_type": "markdown",
      "source": [
        "**(6)**"
      ],
      "metadata": {
        "id": "tB6SY249hn41"
      }
    },
    {
      "cell_type": "code",
      "source": [
        "def powers_of_two(exponent):\n",
        "    for i in range(exponent + 1):\n",
        "        yield 2 ** i  # Yield 2 raised to the power of i\n",
        "# Set the maximum exponent you want\n",
        "max_exponent =int(input())\n",
        "\n",
        "# Create a generator for powers of 2\n",
        "for power in powers_of_two(max_exponent):\n",
        "    print(power)\n"
      ],
      "metadata": {
        "colab": {
          "base_uri": "https://localhost:8080/"
        },
        "id": "AQkvn_CLhqww",
        "outputId": "4d191190-2a6e-40d4-de8d-43b879acd0ef"
      },
      "execution_count": null,
      "outputs": [
        {
          "output_type": "stream",
          "name": "stdout",
          "text": [
            "10\n",
            "1\n",
            "2\n",
            "4\n",
            "8\n",
            "16\n",
            "32\n",
            "64\n",
            "128\n",
            "256\n",
            "512\n",
            "1024\n"
          ]
        }
      ]
    },
    {
      "cell_type": "markdown",
      "source": [
        "**(7)**"
      ],
      "metadata": {
        "id": "vp71k-YNk6gd"
      }
    },
    {
      "cell_type": "code",
      "source": [
        "# Sample list of tuples\n",
        "data = [(1, 3), (4, 1), (5, 2), (2, 5)]\n",
        "\n",
        "# Sort the list of tuples based on the second element\n",
        "sorted_data = sorted(data, key=lambda x: x[1])\n",
        "\n",
        "# Print the sorted list\n",
        "print(sorted_data)\n"
      ],
      "metadata": {
        "id": "bMiGIHqyk8-E",
        "colab": {
          "base_uri": "https://localhost:8080/"
        },
        "outputId": "2fb7f963-9112-4022-a2b8-853aaf16478f"
      },
      "execution_count": null,
      "outputs": [
        {
          "output_type": "stream",
          "name": "stdout",
          "text": [
            "[(4, 1), (5, 2), (1, 3), (2, 5)]\n"
          ]
        }
      ]
    },
    {
      "cell_type": "markdown",
      "source": [
        "**(8)**"
      ],
      "metadata": {
        "id": "vrh1Nm_AWfqm"
      }
    },
    {
      "cell_type": "code",
      "source": [
        "# Sample list of tuples\n",
        "data = [(1, 3), (4, 1), (2, 2), (5, 0)]\n",
        "\n",
        "# Using sorted() with a lambda function\n",
        "sorted_data = sorted(data, key=lambda x: x[1])\n",
        "\n",
        "print(sorted_data)\n"
      ],
      "metadata": {
        "colab": {
          "base_uri": "https://localhost:8080/"
        },
        "id": "QEIYaE8RWhzS",
        "outputId": "4bca938f-fc45-4549-9a88-abc559cb011b"
      },
      "execution_count": null,
      "outputs": [
        {
          "output_type": "stream",
          "name": "stdout",
          "text": [
            "[(5, 0), (4, 1), (2, 2), (1, 3)]\n"
          ]
        }
      ]
    },
    {
      "cell_type": "markdown",
      "source": [
        "**(9)**"
      ],
      "metadata": {
        "id": "BzwX1DdSXRUy"
      }
    },
    {
      "cell_type": "code",
      "source": [
        "# List of temperatures in Celsius\n",
        "celsius_temperatures =list(input())\n",
        "\n",
        "# Using map() with a lambda function to convert Celsius to Fahrenheit\n",
        "fahrenheit_temperatures = list(map((lambda c: (c * 9/5) + 32, celsius_temperatures).split()))\n",
        "\n",
        "print(fahrenheit_temperatures)\n"
      ],
      "metadata": {
        "colab": {
          "base_uri": "https://localhost:8080/",
          "height": 228
        },
        "id": "C7Yj_OvMXU65",
        "outputId": "b757a134-2099-4f2b-cfbd-1051f3a34e38"
      },
      "execution_count": null,
      "outputs": [
        {
          "name": "stdout",
          "output_type": "stream",
          "text": [
            "1 23 4\n"
          ]
        },
        {
          "output_type": "error",
          "ename": "AttributeError",
          "evalue": "'tuple' object has no attribute 'split'",
          "traceback": [
            "\u001b[0;31m---------------------------------------------------------------------------\u001b[0m",
            "\u001b[0;31mAttributeError\u001b[0m                            Traceback (most recent call last)",
            "\u001b[0;32m<ipython-input-10-5b22bd15bc71>\u001b[0m in \u001b[0;36m<cell line: 5>\u001b[0;34m()\u001b[0m\n\u001b[1;32m      3\u001b[0m \u001b[0;34m\u001b[0m\u001b[0m\n\u001b[1;32m      4\u001b[0m \u001b[0;31m# Using map() with a lambda function to convert Celsius to Fahrenheit\u001b[0m\u001b[0;34m\u001b[0m\u001b[0;34m\u001b[0m\u001b[0m\n\u001b[0;32m----> 5\u001b[0;31m \u001b[0mfahrenheit_temperatures\u001b[0m \u001b[0;34m=\u001b[0m \u001b[0mlist\u001b[0m\u001b[0;34m(\u001b[0m\u001b[0mmap\u001b[0m\u001b[0;34m(\u001b[0m\u001b[0;34m(\u001b[0m\u001b[0;32mlambda\u001b[0m \u001b[0mc\u001b[0m\u001b[0;34m:\u001b[0m \u001b[0;34m(\u001b[0m\u001b[0mc\u001b[0m \u001b[0;34m*\u001b[0m \u001b[0;36m9\u001b[0m\u001b[0;34m/\u001b[0m\u001b[0;36m5\u001b[0m\u001b[0;34m)\u001b[0m \u001b[0;34m+\u001b[0m \u001b[0;36m32\u001b[0m\u001b[0;34m,\u001b[0m \u001b[0mcelsius_temperatures\u001b[0m\u001b[0;34m)\u001b[0m\u001b[0;34m.\u001b[0m\u001b[0msplit\u001b[0m\u001b[0;34m(\u001b[0m\u001b[0;34m)\u001b[0m\u001b[0;34m)\u001b[0m\u001b[0;34m)\u001b[0m\u001b[0;34m\u001b[0m\u001b[0;34m\u001b[0m\u001b[0m\n\u001b[0m\u001b[1;32m      6\u001b[0m \u001b[0;34m\u001b[0m\u001b[0m\n\u001b[1;32m      7\u001b[0m \u001b[0mprint\u001b[0m\u001b[0;34m(\u001b[0m\u001b[0mfahrenheit_temperatures\u001b[0m\u001b[0;34m)\u001b[0m\u001b[0;34m\u001b[0m\u001b[0;34m\u001b[0m\u001b[0m\n",
            "\u001b[0;31mAttributeError\u001b[0m: 'tuple' object has no attribute 'split'"
          ]
        }
      ]
    },
    {
      "cell_type": "markdown",
      "source": [
        "**(10)**"
      ],
      "metadata": {
        "id": "dPBJXSf6Y6W_"
      }
    },
    {
      "cell_type": "code",
      "source": [
        "# Given string\n",
        "input_string =input()\n",
        "# Define a set of vowels for easy lookup\n",
        "vowels = set(\"aeiouAEIOU\")\n",
        "\n",
        "# Use filter() to remove vowels\n",
        "filtered_string = \"\".join(filter(lambda char: char not in vowels, input_string))\n",
        "\n",
        "print(filtered_string)\n"
      ],
      "metadata": {
        "colab": {
          "base_uri": "https://localhost:8080/"
        },
        "id": "ZYmUWu1eY9z_",
        "outputId": "3388e7d0-87cc-4fcc-d65e-ec1f176cb437"
      },
      "execution_count": null,
      "outputs": [
        {
          "output_type": "stream",
          "name": "stdout",
          "text": [
            "Physics Wallah\n",
            "Physcs Wllh\n"
          ]
        }
      ]
    },
    {
      "cell_type": "code",
      "source": [
        "# Input list of orders\n",
        "orders = [\n",
        "    [34587, \"Learning Python, Mark Lutz\", 4, 40.95],\n",
        "    [98762, \"Programming Python, Mark Lutz\", 5, 56.80],\n",
        "    [77226, \"Head First Python, Paul Barry\", 3, 32.95],\n",
        "    [88112, \"Einführung in Python3, Bernd Klein\", 3, 24.99]\n",
        "]\n",
        "\n",
        "# Function to process orders\n",
        "def process_orders(orders):\n",
        "    # Use list comprehension to create a list of tuples\n",
        "    result = [\n",
        "        (order[0], order[2] * order[3] + 10 if order[2] * order[3] < 100 else order[2] * order[3])\n",
        "        for order in orders\n",
        "    ]\n",
        "    return result\n",
        "\n",
        "# Call the function and store the result\n",
        "result = process_orders(orders)\n",
        "\n",
        "# Print the result\n",
        "print(result)\n"
      ],
      "metadata": {
        "id": "luEBRHSOZVSD",
        "colab": {
          "base_uri": "https://localhost:8080/"
        },
        "outputId": "be1c34cd-74c1-4e26-8231-f886eac8b101"
      },
      "execution_count": null,
      "outputs": [
        {
          "output_type": "stream",
          "name": "stdout",
          "text": [
            "[(34587, 163.8), (98762, 284.0), (77226, 108.85000000000001), (88112, 84.97)]\n"
          ]
        }
      ]
    },
    {
      "cell_type": "code",
      "source": [
        "# Input list of orders\n",
        "orders = [\n",
        "    [34587, \"Learning Python, Mark Lutz\", 4, 40.95],\n",
        "    [98762, \"Programming Python, Mark Lutz\", 5, 56.80],\n",
        "    [77226, \"Head First Python, Paul Barry\", 3, 32.95],\n",
        "    [88112, \"Einführung in Python3, Bernd Klein\", 3, 24.99]\n",
        "]\n",
        "\n",
        "# Use map with a lambda function to create the list of tuples\n",
        "result = list(map(lambda order: (order[0], order[2] * order[3] + 10 if order[2] * order[3] < 100 else order[2] * order[3]), orders))\n",
        "\n",
        "# Print the result\n",
        "print(result)\n"
      ],
      "metadata": {
        "id": "ey201bJSfy0h",
        "outputId": "7a83933e-59b6-4413-fe34-ed366c3ef638",
        "colab": {
          "base_uri": "https://localhost:8080/"
        }
      },
      "execution_count": null,
      "outputs": [
        {
          "output_type": "stream",
          "name": "stdout",
          "text": [
            "[(34587, 163.8), (98762, 284.0), (77226, 108.85000000000001), (88112, 84.97)]\n"
          ]
        }
      ]
    }
  ]
}