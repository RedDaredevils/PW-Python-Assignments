{
  "nbformat": 4,
  "nbformat_minor": 0,
  "metadata": {
    "colab": {
      "provenance": []
    },
    "kernelspec": {
      "name": "python3",
      "display_name": "Python 3"
    },
    "language_info": {
      "name": "python"
    }
  },
  "cells": [
    {
      "cell_type": "markdown",
      "source": [
        "**(1)**\n",
        "\n",
        "1. Encapsulation\n",
        "\n",
        "Encapsulation is the practice of bundling the data (attributes) and methods (functions) that operate on the data into a single unit, known as an object.\n",
        "\n",
        "\n",
        "2. Abstraction\n",
        "\n",
        "Abstraction is the concept of simplifying complex systems by modeling classes based on the essential properties and behaviors an object should have, while hiding the irrelevant details.\n",
        "\n",
        "\n",
        "3. Inheritance\n",
        "\n",
        "nheritance is a mechanism that allows a new class (derived class) to inherit properties and behavior (methods) from an existing class\n",
        "\n",
        "\n",
        "4. Polymorphism\n",
        "\n",
        "Polymorphism allows objects of different classes to be treated as objects of a common superclass.\n",
        "\n",
        "\n",
        "5. Composition\n",
        "\n",
        "Composition is a design principle in which a class is composed of one or more objects from other classes."
      ],
      "metadata": {
        "id": "tCvxkD6YGbYt"
      }
    },
    {
      "cell_type": "markdown",
      "source": [
        "**(2)**"
      ],
      "metadata": {
        "id": "OliJxWC-c2aa"
      }
    },
    {
      "cell_type": "code",
      "source": [
        "class Car:\n",
        "    def __init__(self, make, model, year):\n",
        "        self.make = make\n",
        "        self.model = model\n",
        "        self.year = year\n",
        "\n",
        "    def display_info(self):\n",
        "        print(f\"Car Information: {self.year} {self.make} {self.model}\")\n",
        "\n",
        "# Example usage:\n",
        "my_car = Car(\"Toyota\", \"Camry\", 2020)\n",
        "my_car.display_info()\n"
      ],
      "metadata": {
        "colab": {
          "base_uri": "https://localhost:8080/"
        },
        "id": "ut9WQaKzdA5a",
        "outputId": "e3662dc7-209d-4181-b24b-b92e65a8158d"
      },
      "execution_count": null,
      "outputs": [
        {
          "output_type": "stream",
          "name": "stdout",
          "text": [
            "Car Information: 2020 Toyota Camry\n"
          ]
        }
      ]
    },
    {
      "cell_type": "markdown",
      "source": [
        "**(3)**Instance Methods:\n",
        "\n",
        "These methods operate on an instance of a class and can access instance-specific data (attributes).\n"
      ],
      "metadata": {
        "id": "jMA_pATCPpfj"
      }
    },
    {
      "cell_type": "code",
      "source": [
        "class Car:\n",
        "    def __init__(self, model, year):\n",
        "        self.model = model\n",
        "        self.year = year\n",
        "\n",
        "    def get_description(self):\n",
        "        return f\"{self.year} {self.model}\"\n",
        "\n",
        "# Create an instance of the Car class\n",
        "my_car = Car(\"Toyota Corolla\", 2022)\n",
        "print(my_car.get_description())  # Output: 2022 Toyota Corolla\n"
      ],
      "metadata": {
        "colab": {
          "base_uri": "https://localhost:8080/"
        },
        "id": "POFtzMnOP4ec",
        "outputId": "7e966295-d105-4d72-c9c0-79535063f961"
      },
      "execution_count": null,
      "outputs": [
        {
          "output_type": "stream",
          "name": "stdout",
          "text": [
            "2022 Toyota Corolla\n"
          ]
        }
      ]
    },
    {
      "cell_type": "markdown",
      "source": [
        "Class Methods:\n",
        "\n",
        "These methods operate on the class itself rather than on instances of the class."
      ],
      "metadata": {
        "id": "GnhUjeToP-Gf"
      }
    },
    {
      "cell_type": "code",
      "source": [
        "class Car:\n",
        "    base_price = 20000  # class attribute\n",
        "\n",
        "    def __init__(self, model, year):\n",
        "        self.model = model\n",
        "        self.year = year\n",
        "\n",
        "    @classmethod\n",
        "    def update_base_price(cls, new_price):\n",
        "        cls.base_price = new_price\n",
        "\n",
        "# Call class method without creating an instance\n",
        "Car.update_base_price(25000)\n",
        "print(Car.base_price)  # Output: 25000\n"
      ],
      "metadata": {
        "colab": {
          "base_uri": "https://localhost:8080/"
        },
        "id": "fponRGItQDzj",
        "outputId": "6335e64f-d025-4ed1-d792-3bb71a3b93b0"
      },
      "execution_count": null,
      "outputs": [
        {
          "output_type": "stream",
          "name": "stdout",
          "text": [
            "25000\n"
          ]
        }
      ]
    },
    {
      "cell_type": "markdown",
      "source": [
        "**(4)**"
      ],
      "metadata": {
        "id": "r67ehMR0bBtF"
      }
    },
    {
      "cell_type": "markdown",
      "source": [
        "1. Default Arguments:\n",
        "\n",
        "It a single method to handle various argument combinations."
      ],
      "metadata": {
        "id": "MsB3YNOnbGCd"
      }
    },
    {
      "cell_type": "code",
      "source": [
        "class MyClass:\n",
        "    def greet(self, name=\"Guest\"):\n",
        "        print(f\"Hello, {name}!\")\n"
      ],
      "metadata": {
        "id": "wc-u0ETKbe2U"
      },
      "execution_count": 1,
      "outputs": []
    },
    {
      "cell_type": "markdown",
      "source": [
        "2. Variable-Length Arguments:\n",
        "\n",
        "a method can accept a variable number of positional and keyword arguments, making it adaptable to different numbers of inputs."
      ],
      "metadata": {
        "id": "SqQ9iJdXbh9i"
      }
    },
    {
      "cell_type": "code",
      "source": [
        "class MyClass:\n",
        "    def add(self, *args):\n",
        "        return sum(args)\n"
      ],
      "metadata": {
        "id": "s2VQgHEZbp_c"
      },
      "execution_count": 2,
      "outputs": []
    },
    {
      "cell_type": "markdown",
      "source": [
        "3. Type Checking:\n",
        "\n",
        "type-checking within a method to perform different actions based on the types or number of arguments."
      ],
      "metadata": {
        "id": "6YwvOoj1bsvP"
      }
    },
    {
      "cell_type": "code",
      "source": [
        "class MyClass:\n",
        "    def process(self, value):\n",
        "        if isinstance(value, int):\n",
        "            print(f\"Processing integer: {value}\")\n",
        "        elif isinstance(value, str):\n",
        "            print(f\"Processing string: {value}\")\n"
      ],
      "metadata": {
        "id": "05o0IvnSb4F3"
      },
      "execution_count": 3,
      "outputs": []
    },
    {
      "cell_type": "markdown",
      "source": [
        "4. Method Overriding:\n",
        "\n",
        "Python supports method overriding in inheritance, where a subclass redefines a method of its parent class."
      ],
      "metadata": {
        "id": "QI2MIsMib9dy"
      }
    },
    {
      "cell_type": "markdown",
      "source": [
        "**(5)**1. Public:\n",
        "\n",
        "Public members are accessible from any part of the program. They can be accessed both inside and outside of a class."
      ],
      "metadata": {
        "id": "RWMUP04McHPk"
      }
    },
    {
      "cell_type": "code",
      "source": [
        "class MyClass:\n",
        "    def __init__(self):\n",
        "        self.public_var = \"I am public\"\n",
        "\n",
        "    def public_method(self):\n",
        "        print(\"This is a public method.\")\n",
        "\n",
        "obj = MyClass()\n",
        "print(obj.public_var)  # Accessible from outside\n",
        "obj.public_method()    # Accessible from outside\n"
      ],
      "metadata": {
        "colab": {
          "base_uri": "https://localhost:8080/"
        },
        "id": "GIjIVDP6c20L",
        "outputId": "569bfd49-ab4d-4f71-9588-af2e879dfa66"
      },
      "execution_count": 4,
      "outputs": [
        {
          "output_type": "stream",
          "name": "stdout",
          "text": [
            "I am public\n",
            "This is a public method.\n"
          ]
        }
      ]
    },
    {
      "cell_type": "markdown",
      "source": [
        "2. Protected:\n",
        "\n",
        "Protected members are intended to be accessible within the class and its subclasses. While they can technically be accessed from outside the class, it is considered a convention that they should not be.\n",
        "\n",
        "A single underscore (_) prefix denotes protected members.\n"
      ],
      "metadata": {
        "id": "-hbyQDf0c-yV"
      }
    },
    {
      "cell_type": "code",
      "source": [
        "class MyClass:\n",
        "    def __init__(self):\n",
        "        self._protected_var = \"I am protected\"\n",
        "\n",
        "    def _protected_method(self):\n",
        "        print(\"This is a protected method.\")\n",
        "\n",
        "class SubClass(MyClass):\n",
        "    def access_protected(self):\n",
        "        print(self._protected_var)\n",
        "        self._protected_method()\n",
        "\n",
        "obj = SubClass()\n",
        "obj.access_protected()  # Accessible within subclass\n",
        "print(obj._protected_var)  # Can be accessed, but not recommended\n"
      ],
      "metadata": {
        "colab": {
          "base_uri": "https://localhost:8080/"
        },
        "id": "12NICv4gdGUC",
        "outputId": "385eb8c9-e4b7-46bb-f6d5-a7344321cee1"
      },
      "execution_count": 5,
      "outputs": [
        {
          "output_type": "stream",
          "name": "stdout",
          "text": [
            "I am protected\n",
            "This is a protected method.\n",
            "I am protected\n"
          ]
        }
      ]
    },
    {
      "cell_type": "markdown",
      "source": [
        "3. Private:\n",
        "\n",
        "Private members are designed to be accessible only within the class in which they are defined.\n",
        "\n",
        "A double underscore (__) prefix is used to denote private members."
      ],
      "metadata": {
        "id": "Y9RkI7HcdLKi"
      }
    },
    {
      "cell_type": "code",
      "source": [
        "class MyClass:\n",
        "    def __init__(self):\n",
        "        self.__private_var = \"I am private\"\n",
        "\n",
        "    def __private_method(self):\n",
        "        print(\"This is a private method.\")\n",
        "\n",
        "    def access_private(self):\n",
        "        print(self.__private_var)\n",
        "        self.__private_method()\n",
        "\n",
        "obj = MyClass()\n",
        "obj.access_private()  # Accessible from within the class\n",
        "# print(obj.__private_var)  # Raises an AttributeError\n"
      ],
      "metadata": {
        "colab": {
          "base_uri": "https://localhost:8080/"
        },
        "id": "Iiw7AMgYdTvz",
        "outputId": "8ca5fde6-5c43-419c-91b1-5531e0dd1d7e"
      },
      "execution_count": 6,
      "outputs": [
        {
          "output_type": "stream",
          "name": "stdout",
          "text": [
            "I am private\n",
            "This is a private method.\n"
          ]
        }
      ]
    },
    {
      "cell_type": "markdown",
      "source": [
        "**(6)**\n",
        "\n",
        "1. Single Inheritance:\n",
        "In single inheritance, a child class inherits from a single parent class. This is the most straightforward form of inheritance.\n"
      ],
      "metadata": {
        "id": "Ov2PUJJtdp3r"
      }
    },
    {
      "cell_type": "code",
      "source": [
        "class Parent:\n",
        "    def parent_method(self):\n",
        "        print(\"This is the parent class method.\")\n",
        "\n",
        "class Child(Parent):\n",
        "    def child_method(self):\n",
        "        print(\"This is the child class method.\")\n",
        "\n",
        "obj = Child()\n",
        "obj.parent_method()  # Inherited from Parent\n",
        "obj.child_method()\n"
      ],
      "metadata": {
        "colab": {
          "base_uri": "https://localhost:8080/"
        },
        "id": "C-BebWLXejns",
        "outputId": "4068250f-c414-420d-b8ea-dc71ab0157c8"
      },
      "execution_count": 7,
      "outputs": [
        {
          "output_type": "stream",
          "name": "stdout",
          "text": [
            "This is the parent class method.\n",
            "This is the child class method.\n"
          ]
        }
      ]
    },
    {
      "cell_type": "markdown",
      "source": [
        "2. Multiple Inheritance:\n",
        "\n",
        "In multiple inheritance, a child class inherits from more than one parent class. This allows the child class to inherit attributes and methods from all parent classes."
      ],
      "metadata": {
        "id": "W51oksXtetg1"
      }
    },
    {
      "cell_type": "code",
      "source": [
        "class Parent1:\n",
        "    def method1(self):\n",
        "        print(\"This is method1 from Parent1.\")\n",
        "\n",
        "class Parent2:\n",
        "    def method2(self):\n",
        "        print(\"This is method2 from Parent2.\")\n",
        "\n",
        "class Child(Parent1, Parent2):\n",
        "    def child_method(self):\n",
        "        print(\"This is the child class method.\")\n",
        "\n",
        "obj = Child()\n",
        "obj.method1()  # Inherited from Parent1\n",
        "obj.method2()  # Inherited from Parent2\n"
      ],
      "metadata": {
        "colab": {
          "base_uri": "https://localhost:8080/"
        },
        "id": "KqJ9KHMoe10A",
        "outputId": "7afed1b7-721e-4693-9d3a-ba6e6c98ccb2"
      },
      "execution_count": 8,
      "outputs": [
        {
          "output_type": "stream",
          "name": "stdout",
          "text": [
            "This is method1 from Parent1.\n",
            "This is method2 from Parent2.\n"
          ]
        }
      ]
    },
    {
      "cell_type": "markdown",
      "source": [
        "3. Multilevel Inheritance:\n",
        "In multilevel inheritance, a child class is derived from another child class, forming a chain of inheritance."
      ],
      "metadata": {
        "id": "g8q0ZB0-e6By"
      }
    },
    {
      "cell_type": "code",
      "source": [
        "class Grandparent:\n",
        "    def grandparent_method(self):\n",
        "        print(\"This is the grandparent class method.\")\n",
        "\n",
        "class Parent(Grandparent):\n",
        "    def parent_method(self):\n",
        "        print(\"This is the parent class method.\")\n",
        "\n",
        "class Child(Parent):\n",
        "    def child_method(self):\n",
        "        print(\"This is the child class method.\")\n",
        "\n",
        "obj = Child()\n",
        "obj.grandparent_method()  # Inherited from Grandparent\n",
        "obj.parent_method()       # Inherited from Parent\n",
        "obj.child_method()\n"
      ],
      "metadata": {
        "colab": {
          "base_uri": "https://localhost:8080/"
        },
        "id": "c-m6jtNKfCs0",
        "outputId": "7c47b5f5-903c-4e0a-b43f-efb6cdafe98b"
      },
      "execution_count": 9,
      "outputs": [
        {
          "output_type": "stream",
          "name": "stdout",
          "text": [
            "This is the grandparent class method.\n",
            "This is the parent class method.\n",
            "This is the child class method.\n"
          ]
        }
      ]
    },
    {
      "cell_type": "markdown",
      "source": [
        "4. Hierarchical Inheritance:\n",
        "In hierarchical inheritance, multiple child classes inherit from a single parent class. Each child class has access to the methods and attributes of the common parent."
      ],
      "metadata": {
        "id": "RcQUsOgnfHTB"
      }
    },
    {
      "cell_type": "code",
      "source": [
        "class Parent:\n",
        "    def parent_method(self):\n",
        "        print(\"This is the parent class method.\")\n",
        "\n",
        "class Child1(Parent):\n",
        "    def child1_method(self):\n",
        "        print(\"This is the child1 class method.\")\n",
        "\n",
        "class Child2(Parent):\n",
        "    def child2_method(self):\n",
        "        print(\"This is the child2 class method.\")\n",
        "\n",
        "obj1 = Child1()\n",
        "obj1.parent_method()  # Inherited from Parent\n",
        "obj1.child1_method()\n",
        "\n",
        "obj2 = Child2()\n",
        "obj2.parent_method()  # Inherited from Parent\n",
        "obj2.child2_method()\n"
      ],
      "metadata": {
        "colab": {
          "base_uri": "https://localhost:8080/"
        },
        "id": "1VpQVXzpfQ_m",
        "outputId": "e2434bfb-8311-4b08-eb14-f9bc36521e2d"
      },
      "execution_count": 10,
      "outputs": [
        {
          "output_type": "stream",
          "name": "stdout",
          "text": [
            "This is the parent class method.\n",
            "This is the child1 class method.\n",
            "This is the parent class method.\n",
            "This is the child2 class method.\n"
          ]
        }
      ]
    },
    {
      "cell_type": "markdown",
      "source": [
        "5. Hybrid Inheritance:\n",
        "Hybrid inheritance is a combination of two or more types of inheritance. It may involve a mix of single, multiple, multilevel, or hierarchical inheritance structures."
      ],
      "metadata": {
        "id": "X9nzyVyDfT8s"
      }
    },
    {
      "cell_type": "code",
      "source": [
        "class Base:\n",
        "    def base_method(self):\n",
        "        print(\"This is the base class method.\")\n",
        "\n",
        "class Parent1(Base):\n",
        "    def parent1_method(self):\n",
        "        print(\"This is parent1 class method.\")\n",
        "\n",
        "class Parent2(Base):\n",
        "    def parent2_method(self):\n",
        "        print(\"This is parent2 class method.\")\n",
        "\n",
        "class Child(Parent1, Parent2):\n",
        "    def child_method(self):\n",
        "        print(\"This is the child class method.\")\n",
        "\n",
        "obj = Child()\n",
        "obj.base_method()       # Inherited from Base\n",
        "obj.parent1_method()    # Inherited from Parent1\n",
        "obj.parent2_method()    # Inherited from Parent2\n",
        "obj.child_method()\n"
      ],
      "metadata": {
        "colab": {
          "base_uri": "https://localhost:8080/"
        },
        "id": "H3Lnc-sJfb-z",
        "outputId": "40580be4-bfcf-46d4-853c-afd244229657"
      },
      "execution_count": 11,
      "outputs": [
        {
          "output_type": "stream",
          "name": "stdout",
          "text": [
            "This is the base class method.\n",
            "This is parent1 class method.\n",
            "This is parent2 class method.\n",
            "This is the child class method.\n"
          ]
        }
      ]
    },
    {
      "cell_type": "markdown",
      "source": [
        "**(7)**\n",
        "\n",
        "Method Resolution Order (MRO) in Python is the sequence in which Python searches for a method or attribute in a class and its parent classes when it is called. MRO defines the order in which base classes are checked to find a method, especially in cases of multiple inheritance. It uses the C3 linearization algorithm to create a consistent, unambiguous order, ensuring that classes are searched from left to right, respecting the order of inheritance, and preventing conflicts. The MRO can be viewed using the __mro__ attribute or the mro() method on a class."
      ],
      "metadata": {
        "id": "Hu-EgFSsfhXl"
      }
    },
    {
      "cell_type": "markdown",
      "source": [
        "1. Using __mro__ Attribute:\n"
      ],
      "metadata": {
        "id": "ugdGuPRiga9l"
      }
    },
    {
      "cell_type": "code",
      "source": [
        "class A:\n",
        "    pass\n",
        "\n",
        "class B(A):\n",
        "    pass\n",
        "\n",
        "class C(A):\n",
        "    pass\n",
        "\n",
        "class D(B, C):\n",
        "    pass\n",
        "\n",
        "# Retrieve MRO using __mro__\n",
        "mro_tuple = D.__mro__\n",
        "print(mro_tuple)\n"
      ],
      "metadata": {
        "colab": {
          "base_uri": "https://localhost:8080/"
        },
        "id": "XEvv7AI9gezL",
        "outputId": "200baf3e-d1a7-4074-acc2-f1b100dc293e"
      },
      "execution_count": 12,
      "outputs": [
        {
          "output_type": "stream",
          "name": "stdout",
          "text": [
            "(<class '__main__.D'>, <class '__main__.B'>, <class '__main__.C'>, <class '__main__.A'>, <class 'object'>)\n"
          ]
        }
      ]
    },
    {
      "cell_type": "markdown",
      "source": [
        "2. Using mro() Method\n"
      ],
      "metadata": {
        "id": "dlj4II_wghW7"
      }
    },
    {
      "cell_type": "code",
      "source": [
        "# Retrieve MRO using mro() method\n",
        "mro_list = D.mro()\n",
        "print(mro_list)\n"
      ],
      "metadata": {
        "colab": {
          "base_uri": "https://localhost:8080/"
        },
        "id": "LX9y57XhgkDq",
        "outputId": "0b25cb21-dfd5-4fa4-c63c-dbd932b8cfd4"
      },
      "execution_count": 13,
      "outputs": [
        {
          "output_type": "stream",
          "name": "stdout",
          "text": [
            "[<class '__main__.D'>, <class '__main__.B'>, <class '__main__.C'>, <class '__main__.A'>, <class 'object'>]\n"
          ]
        }
      ]
    },
    {
      "cell_type": "markdown",
      "source": [
        "**(8)**\n",
        "\n",
        "Define the Abstract Base Class,Implement the Subclasses and Test the Implementation"
      ],
      "metadata": {
        "id": "-PuycbLjg1_B"
      }
    },
    {
      "cell_type": "code",
      "source": [
        "from abc import ABC, abstractmethod\n",
        "import math\n",
        "\n",
        "class Shape(ABC):\n",
        "    @abstractmethod\n",
        "    def area(self):\n",
        "        pass\n",
        "\n",
        "class Circle(Shape):\n",
        "    def __init__(self, radius):\n",
        "        self.radius = radius\n",
        "\n",
        "    def area(self):\n",
        "        return math.pi * (self.radius ** 2)\n",
        "\n",
        "class Rectangle(Shape):\n",
        "    def __init__(self, width, height):\n",
        "        self.width = width\n",
        "        self.height = height\n",
        "\n",
        "    def area(self):\n",
        "        return self.width * self.height\n",
        "\n",
        "if __name__ == \"__main__\":\n",
        "    circle = Circle(radius=5)\n",
        "    rectangle = Rectangle(width=4, height=6)\n",
        "\n",
        "    print(f\"Area of Circle: {circle.area():.2f}\")  # Output: Area of Circle: 78.54\n",
        "    print(f\"Area of Rectangle: {rectangle.area()}\")  # Output: Area of Rectangle: 24\n"
      ],
      "metadata": {
        "colab": {
          "base_uri": "https://localhost:8080/"
        },
        "id": "y1xPhuIMhMsd",
        "outputId": "d3e4a73e-9a6f-41e3-f482-99844ffb88ce"
      },
      "execution_count": 14,
      "outputs": [
        {
          "output_type": "stream",
          "name": "stdout",
          "text": [
            "Area of Circle: 78.54\n",
            "Area of Rectangle: 24\n"
          ]
        }
      ]
    },
    {
      "cell_type": "markdown",
      "source": [
        "**(9)**\n",
        "\n",
        "Use the Existing Classes and Define a Function to Calculate Areas"
      ],
      "metadata": {
        "id": "gwNbesWAhdSA"
      }
    },
    {
      "cell_type": "code",
      "source": [
        "from abc import ABC, abstractmethod\n",
        "import math\n",
        "\n",
        "class Shape(ABC):\n",
        "    @abstractmethod\n",
        "    def area(self):\n",
        "        pass\n",
        "\n",
        "class Circle(Shape):\n",
        "    def __init__(self, radius):\n",
        "        self.radius = radius\n",
        "\n",
        "    def area(self):\n",
        "        return math.pi * (self.radius ** 2)\n",
        "\n",
        "class Rectangle(Shape):\n",
        "    def __init__(self, width, height):\n",
        "        self.width = width\n",
        "        self.height = height\n",
        "\n",
        "    def area(self):\n",
        "        return self.width * self.height\n",
        "\n",
        "def print_area(shape: Shape):\n",
        "    \"\"\"Function to print the area of a given shape.\"\"\"\n",
        "    print(f\"The area of the shape is: {shape.area():.2f}\")\n",
        "\n",
        "if __name__ == \"__main__\":\n",
        "    circle = Circle(radius=5)\n",
        "    rectangle = Rectangle(width=4, height=6)\n",
        "\n",
        "    print_area(circle)     # Output: The area of the shape is: 78.54\n",
        "    print_area(rectangle)  # Output: The area of the shape is: 24.00\n"
      ],
      "metadata": {
        "colab": {
          "base_uri": "https://localhost:8080/"
        },
        "id": "c0WMQv_YhpBs",
        "outputId": "26d5ac65-12e1-446d-e4d6-342e6d48a8b8"
      },
      "execution_count": 15,
      "outputs": [
        {
          "output_type": "stream",
          "name": "stdout",
          "text": [
            "The area of the shape is: 78.54\n",
            "The area of the shape is: 24.00\n"
          ]
        }
      ]
    },
    {
      "cell_type": "markdown",
      "source": [
        "**(10)**"
      ],
      "metadata": {
        "id": "D2G0RrZmhr3f"
      }
    },
    {
      "cell_type": "code",
      "source": [
        "class BankAccount:\n",
        "    def __init__(self, account_number, initial_balance=0):\n",
        "        self.__account_number = account_number  # Private attribute for account number\n",
        "        self.__balance = initial_balance  # Private attribute for balance\n",
        "\n",
        "    def deposit(self, amount):\n",
        "        \"\"\"Deposit money into the account.\"\"\"\n",
        "        if amount > 0:\n",
        "            self.__balance += amount\n",
        "            print(f\"Deposited: ${amount:.2f}\")\n",
        "        else:\n",
        "            print(\"Deposit amount must be positive.\")\n",
        "\n",
        "    def withdraw(self, amount):\n",
        "        \"\"\"Withdraw money from the account.\"\"\"\n",
        "        if 0 < amount <= self.__balance:\n",
        "            self.__balance -= amount\n",
        "            print(f\"Withdrew: ${amount:.2f}\")\n",
        "        else:\n",
        "            print(\"Insufficient funds or invalid withdrawal amount.\")\n",
        "\n",
        "    def get_balance(self):\n",
        "        \"\"\"Get the current balance of the account.\"\"\"\n",
        "        return self.__balance\n",
        "\n",
        "    def get_account_number(self):\n",
        "        \"\"\"Get the account number (optional, for verification).\"\"\"\n",
        "        return self.__account_number\n",
        "\n",
        "if __name__ == \"__main__\":\n",
        "    # Creating a new BankAccount object\n",
        "    account = BankAccount(account_number=\"123456789\", initial_balance=1000)\n",
        "\n",
        "    # Deposit money\n",
        "    account.deposit(500)  # Output: Deposited: $500.00\n",
        "\n",
        "    # Withdraw money\n",
        "    account.withdraw(200)  # Output: Withdrew: $200.00\n",
        "\n",
        "    # Check balance\n",
        "    print(f\"Current Balance: ${account.get_balance():.2f}\")  # Output: Current Balance: $1300.00\n",
        "\n",
        "    # Attempting to access private attributes (this will raise an AttributeError)\n",
        "    # print(account.__balance)  # Uncommenting this line will raise an error\n"
      ],
      "metadata": {
        "colab": {
          "base_uri": "https://localhost:8080/"
        },
        "id": "BO5qAhMeiCCi",
        "outputId": "2ad3d366-ef63-4fdf-e9e9-be346fae41c4"
      },
      "execution_count": 16,
      "outputs": [
        {
          "output_type": "stream",
          "name": "stdout",
          "text": [
            "Deposited: $500.00\n",
            "Withdrew: $200.00\n",
            "Current Balance: $1300.00\n"
          ]
        }
      ]
    },
    {
      "cell_type": "markdown",
      "source": [
        "**(11)**\n",
        "\n",
        "__str__ Method:\n",
        "\n",
        "The __str__ method is used to define the string representation of an instance of a class. When you call print() on an object or use str() to convert an object to a string, Python will call this method.\n",
        "\n",
        "\n",
        "\n",
        "__add__ Method:\n",
        "\n",
        "The __add__ method is used to define the behavior of the addition operator (+) when applied to instances of your class."
      ],
      "metadata": {
        "id": "Y2RcQEkoiEMn"
      }
    },
    {
      "cell_type": "code",
      "source": [
        "class Vector:\n",
        "    def __init__(self, x, y):\n",
        "        self.x = x\n",
        "        self.y = y\n",
        "\n",
        "    def __str__(self):\n",
        "        \"\"\"Return a string representation of the vector.\"\"\"\n",
        "        return f\"Vector({self.x}, {self.y})\"\n",
        "\n",
        "    def __add__(self, other):\n",
        "        \"\"\"Return the sum of two vectors.\"\"\"\n",
        "        if isinstance(other, Vector):\n",
        "            return Vector(self.x + other.x, self.y + other.y)\n",
        "        return NotImplemented\n",
        "\n",
        "# Example Usage\n",
        "if __name__ == \"__main__\":\n",
        "    vector1 = Vector(2, 3)\n",
        "    vector2 = Vector(4, 5)\n",
        "\n",
        "    print(vector1)  # Output: Vector(2, 3)\n",
        "    print(vector2)  # Output: Vector(4, 5)\n",
        "\n",
        "    vector3 = vector1 + vector2  # Uses the __add__ method\n",
        "    print(vector3)  # Output: Vector(6, 8)\n"
      ],
      "metadata": {
        "colab": {
          "base_uri": "https://localhost:8080/"
        },
        "id": "WS5a5sw3imzO",
        "outputId": "9d20420e-b0d2-41a2-8341-07658bd5fe1e"
      },
      "execution_count": 17,
      "outputs": [
        {
          "output_type": "stream",
          "name": "stdout",
          "text": [
            "Vector(2, 3)\n",
            "Vector(4, 5)\n",
            "Vector(6, 8)\n"
          ]
        }
      ]
    },
    {
      "cell_type": "markdown",
      "source": [
        "**(12)**\n",
        "Creating a decorator to measure and print the execution time of a function in Python is a straightforward process. A decorator is essentially a function that takes another function as an argument and extends or alters its behavior."
      ],
      "metadata": {
        "id": "5M0YZC0rizb_"
      }
    },
    {
      "cell_type": "code",
      "source": [
        "import time\n",
        "from functools import wraps\n",
        "\n",
        "def timing_decorator(func):\n",
        "    @wraps(func)\n",
        "    def wrapper(*args, **kwargs):\n",
        "        start_time = time.time()  # Record the start time\n",
        "        result = func(*args, **kwargs)  # Call the original function\n",
        "        end_time = time.time()  # Record the end time\n",
        "        execution_time = end_time - start_time  # Calculate execution time\n",
        "        print(f\"Execution time for {func.__name__}: {execution_time:.6f} seconds\")\n",
        "        return result  # Return the result of the original function\n",
        "    return wrapper\n",
        "\n",
        "# Example usage of the decorator\n",
        "@timing_decorator\n",
        "def example_function(n):\n",
        "    \"\"\"A function that simulates some work by calculating the sum of squares.\"\"\"\n",
        "    return sum(i ** 2 for i in range(n))\n",
        "\n",
        "if __name__ == \"__main__\":\n",
        "    result = example_function(1000000)  # Call the example function\n",
        "    print(f\"Result: {result}\")\n"
      ],
      "metadata": {
        "colab": {
          "base_uri": "https://localhost:8080/"
        },
        "id": "49rl1HesjKOd",
        "outputId": "55e90378-1936-496b-b4d2-e20dc783250f"
      },
      "execution_count": 18,
      "outputs": [
        {
          "output_type": "stream",
          "name": "stdout",
          "text": [
            "Execution time for example_function: 0.363298 seconds\n",
            "Result: 333332833333500000\n"
          ]
        }
      ]
    },
    {
      "cell_type": "markdown",
      "source": [
        "**(13)**\n",
        "The Diamond Problem (or Diamond Issue) is a common complication that arises in object-oriented programming languages that support multiple inheritance. It refers to a specific scenario where a class inherits from two classes that both inherit from a common base class."
      ],
      "metadata": {
        "id": "R5tcQ3P6jOhv"
      }
    },
    {
      "cell_type": "markdown",
      "source": [
        "Python uses the C3 Linearization algorithm (also known as the MRO - Method Resolution Order) to resolve method calls in a consistent order. This ensures that the method from the most derived class is called first, following the inheritance hierarchy."
      ],
      "metadata": {
        "id": "TRc4TCY1kAkU"
      }
    },
    {
      "cell_type": "code",
      "source": [
        "class A:\n",
        "    def show(self):\n",
        "        print(\"A's show\")\n",
        "\n",
        "class B(A):\n",
        "    def show(self):\n",
        "        print(\"B's show\")\n",
        "\n",
        "class C(A):\n",
        "    def show(self):\n",
        "        print(\"C's show\")\n",
        "\n",
        "class D(B, C):\n",
        "    pass\n",
        "\n",
        "d = D()\n",
        "d.show()  # Output: B's show\n",
        "print(D.__mro__)  # Output: (<class '__main__.D'>, <class '__main__.B'>, <class '__main__.C'>, <class '__main__.A'>, <class 'object'>)\n"
      ],
      "metadata": {
        "colab": {
          "base_uri": "https://localhost:8080/"
        },
        "id": "ol9buFCckBhX",
        "outputId": "9656a8af-a847-4573-d82e-547521fd4521"
      },
      "execution_count": 19,
      "outputs": [
        {
          "output_type": "stream",
          "name": "stdout",
          "text": [
            "B's show\n",
            "(<class '__main__.D'>, <class '__main__.B'>, <class '__main__.C'>, <class '__main__.A'>, <class 'object'>)\n"
          ]
        }
      ]
    },
    {
      "cell_type": "markdown",
      "source": [
        "**(14)**\n"
      ],
      "metadata": {
        "id": "A10wssFDkE6Z"
      }
    },
    {
      "cell_type": "code",
      "source": [
        "class InstanceCounter:\n",
        "    # Class variable to keep track of the number of instances\n",
        "    instance_count = 0\n",
        "\n",
        "    def __init__(self):\n",
        "        # Increment the instance count whenever a new object is created\n",
        "        InstanceCounter.instance_count += 1\n",
        "\n",
        "    @classmethod\n",
        "    def get_instance_count(cls):\n",
        "        \"\"\"Class method to get the current instance count.\"\"\"\n",
        "        return cls.instance_count\n",
        "\n",
        "# Example usage\n",
        "if __name__ == \"__main__\":\n",
        "    obj1 = InstanceCounter()\n",
        "    obj2 = InstanceCounter()\n",
        "    obj3 = InstanceCounter()\n",
        "\n",
        "    print(f\"Number of instances created: {InstanceCounter.get_instance_count()}\")  # Output: 3\n"
      ],
      "metadata": {
        "colab": {
          "base_uri": "https://localhost:8080/"
        },
        "id": "5dwzeGd5kaQY",
        "outputId": "5677238d-c720-4633-b59a-2412b0a262da"
      },
      "execution_count": 20,
      "outputs": [
        {
          "output_type": "stream",
          "name": "stdout",
          "text": [
            "Number of instances created: 3\n"
          ]
        }
      ]
    },
    {
      "cell_type": "markdown",
      "source": [
        "**(15)**"
      ],
      "metadata": {
        "id": "tj5yrgickkfk"
      }
    },
    {
      "cell_type": "code",
      "source": [
        "class YearUtils:\n",
        "    @staticmethod\n",
        "    def is_leap_year(year):\n",
        "        \"\"\"Check if a given year is a leap year.\"\"\"\n",
        "        if (year % 4 == 0 and year % 100 != 0) or (year % 400 == 0):\n",
        "            return True\n",
        "        else:\n",
        "            return False\n",
        "\n",
        "# Example usage\n",
        "if __name__ == \"__main__\":\n",
        "    test_years = [2000, 2001, 2004, 1900, 2020, 2023]\n",
        "    for year in test_years:\n",
        "        if YearUtils.is_leap_year(year):\n",
        "            print(f\"{year} is a leap year.\")\n",
        "        else:\n",
        "            print(f\"{year} is not a leap year.\")\n"
      ],
      "metadata": {
        "colab": {
          "base_uri": "https://localhost:8080/"
        },
        "id": "Lajn8FbKkm8O",
        "outputId": "1db05f5c-05a5-4fe9-e923-1aab3e05136f"
      },
      "execution_count": 21,
      "outputs": [
        {
          "output_type": "stream",
          "name": "stdout",
          "text": [
            "2000 is a leap year.\n",
            "2001 is not a leap year.\n",
            "2004 is a leap year.\n",
            "1900 is not a leap year.\n",
            "2020 is a leap year.\n",
            "2023 is not a leap year.\n"
          ]
        }
      ]
    }
  ]
}