{
  "nbformat": 4,
  "nbformat_minor": 0,
  "metadata": {
    "colab": {
      "provenance": []
    },
    "kernelspec": {
      "name": "python3",
      "display_name": "Python 3"
    },
    "language_info": {
      "name": "python"
    }
  },
  "cells": [
    {
      "cell_type": "markdown",
      "source": [
        "**(1)**"
      ],
      "metadata": {
        "id": "YXLLwrzx8zHU"
      }
    },
    {
      "cell_type": "code",
      "execution_count": null,
      "metadata": {
        "colab": {
          "base_uri": "https://localhost:8080/"
        },
        "id": "c97UrNBz67_t",
        "outputId": "1a4786c0-20cf-48fe-d1d2-a9d069a6bfd3"
      },
      "outputs": [
        {
          "output_type": "stream",
          "name": "stdout",
          "text": [
            "Original Array:\n",
            "[[ 8 33 37]\n",
            " [82 37 92]\n",
            " [39 34 96]]\n",
            "\n",
            "Transposed Array (Rows and Columns Interchanged):\n",
            "[[ 8 82 39]\n",
            " [33 37 34]\n",
            " [37 92 96]]\n"
          ]
        }
      ],
      "source": [
        "import numpy as np\n",
        "\n",
        "# Create a 3x3 NumPy array with random integers between 1 and 100\n",
        "array = np.random.randint(1, 101, size=(3, 3))\n",
        "\n",
        "# Interchange its rows and columns using the transpose method\n",
        "transposed_array = array.T\n",
        "\n",
        "print(\"Original Array:\")\n",
        "print(array)\n",
        "print(\"\\nTransposed Array (Rows and Columns Interchanged):\")\n",
        "print(transposed_array)\n"
      ]
    },
    {
      "cell_type": "markdown",
      "source": [
        "**(2)**"
      ],
      "metadata": {
        "id": "5F4EA7gQ83OX"
      }
    },
    {
      "cell_type": "code",
      "source": [
        "import numpy as np\n",
        "\n",
        "# Generate a 1D NumPy array with 10 elements\n",
        "array_1d = np.arange(1, 11)\n",
        "\n",
        "# Reshape it into a 2x5 array\n",
        "array_2x5 = array_1d.reshape(2, 5)\n",
        "\n",
        "# Reshape it into a 5x2 array\n",
        "array_5x2 = array_1d.reshape(5, 2)\n",
        "\n",
        "print(\"1D Array:\")\n",
        "print(array_1d)\n",
        "print(\"\\n2x5 Array:\")\n",
        "print(array_2x5)\n",
        "print(\"\\n5x2 Array:\")\n",
        "print(array_5x2)\n"
      ],
      "metadata": {
        "colab": {
          "base_uri": "https://localhost:8080/"
        },
        "id": "5kXKRwXG86sj",
        "outputId": "a1cb6f12-663a-4f24-ee1f-9a81f9d9ba96"
      },
      "execution_count": null,
      "outputs": [
        {
          "output_type": "stream",
          "name": "stdout",
          "text": [
            "1D Array:\n",
            "[ 1  2  3  4  5  6  7  8  9 10]\n",
            "\n",
            "2x5 Array:\n",
            "[[ 1  2  3  4  5]\n",
            " [ 6  7  8  9 10]]\n",
            "\n",
            "5x2 Array:\n",
            "[[ 1  2]\n",
            " [ 3  4]\n",
            " [ 5  6]\n",
            " [ 7  8]\n",
            " [ 9 10]]\n"
          ]
        }
      ]
    },
    {
      "cell_type": "markdown",
      "source": [
        "**(3)**"
      ],
      "metadata": {
        "id": "cMijuTDw9HWI"
      }
    },
    {
      "cell_type": "code",
      "source": [
        "import numpy as np\n",
        "\n",
        "# Create a 4x4 array with random float values\n",
        "array_4x4 = np.random.rand(4, 4)\n",
        "\n",
        "# Add a border of zeros around the 4x4 array\n",
        "array_with_border = np.pad(array_4x4, pad_width=1, mode='constant', constant_values=0)\n",
        "\n",
        "print(\"Original 4x4 Array:\")\n",
        "print(array_4x4)\n",
        "print(\"\\n6x6 Array with Border of Zeros:\")\n",
        "print(array_with_border)\n"
      ],
      "metadata": {
        "colab": {
          "base_uri": "https://localhost:8080/"
        },
        "id": "x1ibsWCT9JSs",
        "outputId": "8f4a73b1-6522-4bfb-a414-203eb6a97fbb"
      },
      "execution_count": null,
      "outputs": [
        {
          "output_type": "stream",
          "name": "stdout",
          "text": [
            "Original 4x4 Array:\n",
            "[[0.06062696 0.99987588 0.6225243  0.85466292]\n",
            " [0.92344438 0.12646698 0.57001486 0.98042982]\n",
            " [0.59749804 0.79712382 0.11070266 0.9892873 ]\n",
            " [0.72770595 0.1397694  0.02455903 0.44170222]]\n",
            "\n",
            "6x6 Array with Border of Zeros:\n",
            "[[0.         0.         0.         0.         0.         0.        ]\n",
            " [0.         0.06062696 0.99987588 0.6225243  0.85466292 0.        ]\n",
            " [0.         0.92344438 0.12646698 0.57001486 0.98042982 0.        ]\n",
            " [0.         0.59749804 0.79712382 0.11070266 0.9892873  0.        ]\n",
            " [0.         0.72770595 0.1397694  0.02455903 0.44170222 0.        ]\n",
            " [0.         0.         0.         0.         0.         0.        ]]\n"
          ]
        }
      ]
    },
    {
      "cell_type": "markdown",
      "source": [
        "**(4)**"
      ],
      "metadata": {
        "id": "aU8lsEeD9Z60"
      }
    },
    {
      "cell_type": "code",
      "source": [
        "import numpy as np\n",
        "\n",
        "# Create an array of integers from 10 to 60 with a step of 5\n",
        "array_integers = np.arange(10, 61, 5)\n",
        "\n",
        "print(array_integers)\n"
      ],
      "metadata": {
        "colab": {
          "base_uri": "https://localhost:8080/"
        },
        "id": "zlzz2fPk9kXB",
        "outputId": "75dcafd2-d381-4ade-b30a-fbeaaacce51e"
      },
      "execution_count": null,
      "outputs": [
        {
          "output_type": "stream",
          "name": "stdout",
          "text": [
            "[10 15 20 25 30 35 40 45 50 55 60]\n"
          ]
        }
      ]
    },
    {
      "cell_type": "markdown",
      "source": [
        "**(5)**"
      ],
      "metadata": {
        "id": "A6HJqUT29mAS"
      }
    },
    {
      "cell_type": "code",
      "source": [
        "import numpy as np\n",
        "\n",
        "# Create a NumPy array of strings\n",
        "array_strings = np.array(['python', 'numpy', 'pandas'])\n",
        "\n",
        "# Apply different case transformations\n",
        "uppercase = np.char.upper(array_strings)        # Uppercase\n",
        "lowercase = np.char.lower(array_strings)        # Lowercase\n",
        "titlecase = np.char.title(array_strings)        # Title case\n",
        "capitalize = np.char.capitalize(array_strings)  # Capitalized first letter\n",
        "\n",
        "# Display the results\n",
        "print(\"Original Array:\")\n",
        "print(array_strings)\n",
        "print(\"\\nUppercase:\")\n",
        "print(uppercase)\n",
        "print(\"\\nLowercase:\")\n",
        "print(lowercase)\n",
        "print(\"\\nTitle Case:\")\n",
        "print(titlecase)\n",
        "print(\"\\nCapitalized:\")\n",
        "print(capitalize)\n"
      ],
      "metadata": {
        "colab": {
          "base_uri": "https://localhost:8080/"
        },
        "id": "rpNmmNOb9oAT",
        "outputId": "3c0b5e71-fd4f-42ac-8c48-414e280b7192"
      },
      "execution_count": null,
      "outputs": [
        {
          "output_type": "stream",
          "name": "stdout",
          "text": [
            "Original Array:\n",
            "['python' 'numpy' 'pandas']\n",
            "\n",
            "Uppercase:\n",
            "['PYTHON' 'NUMPY' 'PANDAS']\n",
            "\n",
            "Lowercase:\n",
            "['python' 'numpy' 'pandas']\n",
            "\n",
            "Title Case:\n",
            "['Python' 'Numpy' 'Pandas']\n",
            "\n",
            "Capitalized:\n",
            "['Python' 'Numpy' 'Pandas']\n"
          ]
        }
      ]
    },
    {
      "cell_type": "markdown",
      "source": [
        "**(6)**"
      ],
      "metadata": {
        "id": "weAjD4di901t"
      }
    },
    {
      "cell_type": "code",
      "source": [
        "import numpy as np\n",
        "\n",
        "# Create a NumPy array of words\n",
        "array_words = np.array(['hello', 'world', 'numpy', 'python'])\n",
        "\n",
        "# Insert a space between each character of every word\n",
        "spaced_words = np.char.join(' ', array_words)\n",
        "\n",
        "# Display the result\n",
        "print(\"Original Array:\")\n",
        "print(array_words)\n",
        "print(\"\\nArray with Spaces Between Characters:\")\n",
        "print(spaced_words)\n"
      ],
      "metadata": {
        "colab": {
          "base_uri": "https://localhost:8080/"
        },
        "id": "WpYgMU1z925t",
        "outputId": "613470cd-fbc8-48fc-c929-093a8bf240e4"
      },
      "execution_count": null,
      "outputs": [
        {
          "output_type": "stream",
          "name": "stdout",
          "text": [
            "Original Array:\n",
            "['hello' 'world' 'numpy' 'python']\n",
            "\n",
            "Array with Spaces Between Characters:\n",
            "['h e l l o' 'w o r l d' 'n u m p y' 'p y t h o n']\n"
          ]
        }
      ]
    },
    {
      "cell_type": "markdown",
      "source": [
        "**(7)**"
      ],
      "metadata": {
        "id": "whqmwiDU99-N"
      }
    },
    {
      "cell_type": "code",
      "source": [
        "import numpy as np\n",
        "\n",
        "# Create two 2D NumPy arrays\n",
        "array1 = np.array([[1, 2, 3], [4, 5, 6]])\n",
        "array2 = np.array([[7, 8, 9], [10, 11, 12]])\n",
        "\n",
        "# Perform element-wise addition\n",
        "addition = array1 + array2\n",
        "\n",
        "# Perform element-wise subtraction\n",
        "subtraction = array1 - array2\n",
        "\n",
        "# Perform element-wise multiplication\n",
        "multiplication = array1 * array2\n",
        "\n",
        "# Perform element-wise division\n",
        "division = array1 / array2\n",
        "\n",
        "# Display the results\n",
        "print(\"Array 1:\")\n",
        "print(array1)\n",
        "print(\"\\nArray 2:\")\n",
        "print(array2)\n",
        "print(\"\\nElement-wise Addition:\")\n",
        "print(addition)\n",
        "print(\"\\nElement-wise Subtraction:\")\n",
        "print(subtraction)\n",
        "print(\"\\nElement-wise Multiplication:\")\n",
        "print(multiplication)\n",
        "print(\"\\nElement-wise Division:\")\n",
        "print(division)\n"
      ],
      "metadata": {
        "colab": {
          "base_uri": "https://localhost:8080/"
        },
        "id": "BsBJucY0-AQv",
        "outputId": "4bd3e6aa-8add-4acf-e14e-e242208389d3"
      },
      "execution_count": null,
      "outputs": [
        {
          "output_type": "stream",
          "name": "stdout",
          "text": [
            "Array 1:\n",
            "[[1 2 3]\n",
            " [4 5 6]]\n",
            "\n",
            "Array 2:\n",
            "[[ 7  8  9]\n",
            " [10 11 12]]\n",
            "\n",
            "Element-wise Addition:\n",
            "[[ 8 10 12]\n",
            " [14 16 18]]\n",
            "\n",
            "Element-wise Subtraction:\n",
            "[[-6 -6 -6]\n",
            " [-6 -6 -6]]\n",
            "\n",
            "Element-wise Multiplication:\n",
            "[[ 7 16 27]\n",
            " [40 55 72]]\n",
            "\n",
            "Element-wise Division:\n",
            "[[0.14285714 0.25       0.33333333]\n",
            " [0.4        0.45454545 0.5       ]]\n"
          ]
        }
      ]
    },
    {
      "cell_type": "markdown",
      "source": [
        "**(8)**"
      ],
      "metadata": {
        "id": "Xz-ifM_L-JDa"
      }
    },
    {
      "cell_type": "code",
      "source": [
        "import numpy as np\n",
        "\n",
        "# Create a 5x5 identity matrix\n",
        "identity_matrix = np.eye(5)\n",
        "\n",
        "# Extract the diagonal elements\n",
        "diagonal_elements = np.diagonal(identity_matrix)\n",
        "\n",
        "# Display the results\n",
        "print(\"5x5 Identity Matrix:\")\n",
        "print(identity_matrix)\n",
        "print(\"\\nDiagonal Elements:\")\n",
        "print(diagonal_elements)\n"
      ],
      "metadata": {
        "colab": {
          "base_uri": "https://localhost:8080/"
        },
        "id": "rqRbXHl7-K7a",
        "outputId": "6922349d-2c0a-4ff7-9e63-899a46158e4b"
      },
      "execution_count": null,
      "outputs": [
        {
          "output_type": "stream",
          "name": "stdout",
          "text": [
            "5x5 Identity Matrix:\n",
            "[[1. 0. 0. 0. 0.]\n",
            " [0. 1. 0. 0. 0.]\n",
            " [0. 0. 1. 0. 0.]\n",
            " [0. 0. 0. 1. 0.]\n",
            " [0. 0. 0. 0. 1.]]\n",
            "\n",
            "Diagonal Elements:\n",
            "[1. 1. 1. 1. 1.]\n"
          ]
        }
      ]
    },
    {
      "cell_type": "markdown",
      "source": [
        "**(9)**"
      ],
      "metadata": {
        "id": "F5zbBgYU-SHR"
      }
    },
    {
      "cell_type": "code",
      "source": [
        "import numpy as np\n",
        "\n",
        "# Function to check if a number is prime\n",
        "def is_prime(n):\n",
        "    if n <= 1:\n",
        "        return False\n",
        "    for i in range(2, int(n**0.5) + 1):\n",
        "        if n % i == 0:\n",
        "            return False\n",
        "    return True\n",
        "\n",
        "# Generate a NumPy array of 100 random integers between 0 and 1000\n",
        "random_integers = np.random.randint(0, 1000, size=100)\n",
        "\n",
        "# Find all prime numbers in the array\n",
        "prime_numbers = [num for num in random_integers if is_prime(num)]\n",
        "\n",
        "# Display the results\n",
        "print(\"Random Integers Array:\")\n",
        "print(random_integers)\n",
        "print(\"\\nPrime Numbers in the Array:\")\n",
        "print(prime_numbers)\n"
      ],
      "metadata": {
        "colab": {
          "base_uri": "https://localhost:8080/"
        },
        "id": "CJ06IBaN-VIb",
        "outputId": "d2de6ba1-ece9-4bfc-e420-e4845a374f63"
      },
      "execution_count": null,
      "outputs": [
        {
          "output_type": "stream",
          "name": "stdout",
          "text": [
            "Random Integers Array:\n",
            "[368 150 735 834 148 386 539 621 640 864 293 318 570 323 951  43 315 914\n",
            " 353 319 522 749 715  38 165 778 274 930 294 846 820 955 556 952 803 914\n",
            " 909 530  84 320 973 682  67 857 276 999 297 785 966 686 978 715 778  98\n",
            " 580 727 773  45 651 145 328 714 996 624 155 756 576 936 533 522  82 951\n",
            "  59 599   1 447 527 332 632 982 298 934 973 756  69 471 654  40 522 881\n",
            " 192 197 567 182 433 985 693 240  34 567]\n",
            "\n",
            "Prime Numbers in the Array:\n",
            "[293, 43, 353, 67, 857, 727, 773, 59, 599, 881, 197, 433]\n"
          ]
        }
      ]
    },
    {
      "cell_type": "markdown",
      "source": [
        "**(10)**"
      ],
      "metadata": {
        "id": "-vTqxNE4-bbz"
      }
    },
    {
      "cell_type": "code",
      "source": [
        "import numpy as np\n",
        "\n",
        "# Create a NumPy array representing daily temperatures for a month (30 days)\n",
        "# For demonstration, we'll generate random temperatures between 15 and 35 degrees Celsius\n",
        "daily_temperatures = np.random.randint(15, 36, size=30)\n",
        "\n",
        "# Reshape the first 28 days into a 4-week format (4 rows for 4 weeks, 7 columns for 7 days)\n",
        "weekly_temperatures = daily_temperatures[:28].reshape(4, 7)\n",
        "\n",
        "# Calculate the weekly averages for the first 4 weeks\n",
        "weekly_averages = np.mean(weekly_temperatures, axis=1)\n",
        "\n",
        "# For the last week with only 2 days, extract those temperatures\n",
        "last_week_temperatures = daily_temperatures[28:]\n",
        "\n",
        "# Display the results\n",
        "print(\"Daily Temperatures for the Month:\")\n",
        "print(daily_temperatures)\n",
        "print(\"\\nWeekly Temperatures (4 Complete Weeks):\")\n",
        "print(weekly_temperatures)\n",
        "print(\"\\nWeekly Averages for 4 Complete Weeks:\")\n",
        "print(weekly_averages)\n",
        "print(\"\\nLast Week's Temperatures (2 days):\")\n",
        "print(last_week_temperatures)\n"
      ],
      "metadata": {
        "colab": {
          "base_uri": "https://localhost:8080/"
        },
        "id": "tG-Pb6mm-dlY",
        "outputId": "bb5f21ef-f37c-41d2-c6f7-a7fe98de91d6"
      },
      "execution_count": 12,
      "outputs": [
        {
          "output_type": "stream",
          "name": "stdout",
          "text": [
            "Daily Temperatures for the Month:\n",
            "[35 34 35 25 29 22 25 22 25 15 16 20 26 35 30 22 25 16 32 20 29 20 21 26\n",
            " 33 21 16 28 34 29]\n",
            "\n",
            "Weekly Temperatures (4 Complete Weeks):\n",
            "[[35 34 35 25 29 22 25]\n",
            " [22 25 15 16 20 26 35]\n",
            " [30 22 25 16 32 20 29]\n",
            " [20 21 26 33 21 16 28]]\n",
            "\n",
            "Weekly Averages for 4 Complete Weeks:\n",
            "[29.28571429 22.71428571 24.85714286 23.57142857]\n",
            "\n",
            "Last Week's Temperatures (2 days):\n",
            "[34 29]\n"
          ]
        }
      ]
    }
  ]
}