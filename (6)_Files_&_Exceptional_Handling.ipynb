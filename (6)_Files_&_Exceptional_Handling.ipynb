{
  "nbformat": 4,
  "nbformat_minor": 0,
  "metadata": {
    "colab": {
      "provenance": []
    },
    "kernelspec": {
      "name": "python3",
      "display_name": "Python 3"
    },
    "language_info": {
      "name": "python"
    }
  },
  "cells": [
    {
      "cell_type": "markdown",
      "source": [
        "**(4)**"
      ],
      "metadata": {
        "id": "HDonUkfuld3i"
      }
    },
    {
      "cell_type": "code",
      "source": [
        "import threading\n",
        "import time\n",
        "\n",
        "numbers = []\n",
        "\n",
        "lock = threading.Lock()\n",
        "\n",
        "def add_numbers():\n",
        "    for i in range(1, 6):\n",
        "        time.sleep(1)\n",
        "        with lock:\n",
        "            numbers.append(i)\n",
        "            print(f\"Added: {i}\")\n",
        "\n",
        "def remove_numbers():\n",
        "    for i in range(1, 6):\n",
        "        time.sleep(2)\n",
        "        with lock:\n",
        "            if numbers:\n",
        "                removed = numbers.pop(0)\n",
        "                print(f\"Removed: {removed}\")\n",
        "            else:\n",
        "                print(\"List is empty, nothing to remove.\")\n",
        "\n",
        "add_thread = threading.Thread(target=add_numbers)\n",
        "remove_thread = threading.Thread(target=remove_numbers)\n",
        "\n",
        "add_thread.start()\n",
        "remove_thread.start()\n",
        "\n",
        "add_thread.join()\n",
        "remove_thread.join()\n",
        "\n",
        "print(\"Final numbers list:\", numbers)\n"
      ],
      "metadata": {
        "colab": {
          "base_uri": "https://localhost:8080/"
        },
        "id": "kmebMtp1lmkD",
        "outputId": "1351f443-8350-42cd-9188-2a1e6a2a5d64"
      },
      "execution_count": 1,
      "outputs": [
        {
          "output_type": "stream",
          "name": "stdout",
          "text": [
            "Added: 1\n",
            "Added: 2\n",
            "Removed: 1\n",
            "Added: 3\n",
            "Added: 4\n",
            "Removed: 2\n",
            "Added: 5\n",
            "Removed: 3\n",
            "Removed: 4\n",
            "Removed: 5\n",
            "Final numbers list: []\n"
          ]
        }
      ]
    },
    {
      "cell_type": "markdown",
      "source": [
        "**(7)**"
      ],
      "metadata": {
        "id": "hwFPISWJl8wQ"
      }
    },
    {
      "cell_type": "code",
      "source": [
        "import concurrent.futures\n",
        "\n",
        "# Function to calculate factorial\n",
        "def factorial(n):\n",
        "    result = 1\n",
        "    for i in range(1, n + 1):\n",
        "        result *= i\n",
        "    return result\n",
        "\n",
        "# Using ThreadPoolExecutor to manage threads\n",
        "def calculate_factorials():\n",
        "    with concurrent.futures.ThreadPoolExecutor() as executor:\n",
        "        # Submitting tasks to calculate factorials for numbers 1 to 10\n",
        "        numbers = range(1, 11)\n",
        "        futures = {executor.submit(factorial, num): num for num in numbers}\n",
        "\n",
        "        # Collecting results as they complete\n",
        "        for future in concurrent.futures.as_completed(futures):\n",
        "            num = futures[future]\n",
        "            print(f\"Factorial of {num} is {future.result()}\")\n",
        "\n",
        "# Run the program\n",
        "if __name__ == \"__main__\":\n",
        "    calculate_factorials()\n"
      ],
      "metadata": {
        "colab": {
          "base_uri": "https://localhost:8080/"
        },
        "id": "O9gw3-Z9mCoV",
        "outputId": "bdcb6efc-0475-4c3e-c4ba-d52e26dfc37c"
      },
      "execution_count": 2,
      "outputs": [
        {
          "output_type": "stream",
          "name": "stdout",
          "text": [
            "Factorial of 3 is 6\n",
            "Factorial of 9 is 362880\n",
            "Factorial of 8 is 40320\n",
            "Factorial of 7 is 5040\n",
            "Factorial of 5 is 120\n",
            "Factorial of 10 is 3628800\n",
            "Factorial of 2 is 2\n",
            "Factorial of 6 is 720\n",
            "Factorial of 1 is 1\n",
            "Factorial of 4 is 24\n"
          ]
        }
      ]
    },
    {
      "cell_type": "markdown",
      "source": [
        "**(8)**"
      ],
      "metadata": {
        "id": "VZ7nS9x7mLZ2"
      }
    },
    {
      "cell_type": "code",
      "source": [
        "import multiprocessing\n",
        "import time\n",
        "\n",
        "# Function to compute the square of a number\n",
        "def square(n):\n",
        "    return n * n\n",
        "\n",
        "# Function to measure time taken for different pool sizes\n",
        "def compute_squares(pool_size):\n",
        "    start_time = time.time()  # Start the timer\n",
        "    with multiprocessing.Pool(pool_size) as pool:\n",
        "        result = pool.map(square, range(1, 11))\n",
        "    end_time = time.time()  # End the timer\n",
        "    print(f\"Pool size {pool_size}: {result}\")\n",
        "    print(f\"Time taken with pool size {pool_size}: {end_time - start_time:.4f} seconds\\n\")\n",
        "\n",
        "# Main function to run the program with different pool sizes\n",
        "if __name__ == \"__main__\":\n",
        "    pool_sizes = [2, 4, 8]  # Different pool sizes to test\n",
        "    for size in pool_sizes:\n",
        "        compute_squares(size)\n"
      ],
      "metadata": {
        "colab": {
          "base_uri": "https://localhost:8080/"
        },
        "id": "Et3MMLjPmOW4",
        "outputId": "ed3193b5-4b9e-4054-c0e8-08b1ee08e5e2"
      },
      "execution_count": 3,
      "outputs": [
        {
          "output_type": "stream",
          "name": "stdout",
          "text": [
            "Pool size 2: [1, 4, 9, 16, 25, 36, 49, 64, 81, 100]\n",
            "Time taken with pool size 2: 0.0330 seconds\n",
            "\n",
            "Pool size 4: [1, 4, 9, 16, 25, 36, 49, 64, 81, 100]\n",
            "Time taken with pool size 4: 0.0443 seconds\n",
            "\n",
            "Pool size 8: [1, 4, 9, 16, 25, 36, 49, 64, 81, 100]\n",
            "Time taken with pool size 8: 0.0810 seconds\n",
            "\n"
          ]
        }
      ]
    }
  ]
}