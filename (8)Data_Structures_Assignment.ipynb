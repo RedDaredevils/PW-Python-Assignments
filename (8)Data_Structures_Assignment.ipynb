{
 "cells": [
  {
   "cell_type": "markdown",
   "id": "ca0cbc2a",
   "metadata": {},
   "source": [
    "# **Data Structures Assignment Solutions**"
   ]
  },
  {
   "cell_type": "markdown",
   "id": "f530a5c2",
   "metadata": {},
   "source": [
    "## **String Operations**"
   ]
  },
  {
   "cell_type": "markdown",
   "id": "9348b807",
   "metadata": {},
   "source": [
    "### 1. Reverse a string"
   ]
  },
  {
   "cell_type": "code",
   "execution_count": null,
   "id": "e7758e3b",
   "metadata": {},
   "outputs": [],
   "source": [
    "def reverse_string(s):\n",
    "    return s[::-1]\n",
    "\n",
    "print(reverse_string(\"hello\"))"
   ]
  },
  {
   "cell_type": "markdown",
   "id": "7e3ea4f9",
   "metadata": {},
   "source": [
    "### 2. Count the number of vowels in a string"
   ]
  },
  {
   "cell_type": "code",
   "execution_count": null,
   "id": "cb766bf9",
   "metadata": {},
   "outputs": [],
   "source": [
    "def count_vowels(s):\n",
    "    vowels = \"aeiouAEIOU\"\n",
    "    return sum(1 for char in s if char in vowels)\n",
    "\n",
    "print(count_vowels(\"hello world\"))"
   ]
  },
  {
   "cell_type": "markdown",
   "id": "da01ff32",
   "metadata": {},
   "source": [
    "### 3. Check if a string is a palindrome"
   ]
  },
  {
   "cell_type": "code",
   "execution_count": null,
   "id": "0aada471",
   "metadata": {},
   "outputs": [],
   "source": [
    "def is_palindrome(s):\n",
    "    return s == s[::-1]\n",
    "\n",
    "print(is_palindrome(\"madam\"))"
   ]
  },
  {
   "cell_type": "markdown",
   "id": "bf596107",
   "metadata": {},
   "source": [
    "### 4. Check if two strings are anagrams"
   ]
  },
  {
   "cell_type": "code",
   "execution_count": null,
   "id": "76423893",
   "metadata": {},
   "outputs": [],
   "source": [
    "def are_anagrams(s1, s2):\n",
    "    return sorted(s1) == sorted(s2)\n",
    "\n",
    "print(are_anagrams(\"listen\", \"silent\"))"
   ]
  },
  {
   "cell_type": "markdown",
   "id": "98d6fe71",
   "metadata": {},
   "source": [
    "### 5. Find all occurrences of a substring"
   ]
  },
  {
   "cell_type": "code",
   "execution_count": null,
   "id": "f8284f95",
   "metadata": {},
   "outputs": [],
   "source": [
    "def find_substring(s, sub):\n",
    "    return [i for i in range(len(s)) if s.startswith(sub, i)]\n",
    "\n",
    "print(find_substring(\"banana\", \"ana\"))"
   ]
  },
  {
   "cell_type": "markdown",
   "id": "77468acb",
   "metadata": {},
   "source": [
    "### 6. Perform basic string compression using character counts"
   ]
  },
  {
   "cell_type": "code",
   "execution_count": null,
   "id": "56b5b252",
   "metadata": {},
   "outputs": [],
   "source": [
    "def compress_string(s):\n",
    "    compressed = []\n",
    "    count = 1\n",
    "    for i in range(1, len(s)):\n",
    "        if s[i] == s[i-1]:\n",
    "            count += 1\n",
    "        else:\n",
    "            compressed.append(s[i-1] + str(count))\n",
    "            count = 1\n",
    "    compressed.append(s[-1] + str(count))\n",
    "    return \"\".join(compressed)\n",
    "\n",
    "print(compress_string(\"aaabbcddd\"))"
   ]
  },
  {
   "cell_type": "markdown",
   "id": "c2c5c255",
   "metadata": {},
   "source": [
    "### 7. Check if a string has all unique characters"
   ]
  },
  {
   "cell_type": "code",
   "execution_count": null,
   "id": "c46b0294",
   "metadata": {},
   "outputs": [],
   "source": [
    "def has_unique_chars(s):\n",
    "    return len(set(s)) == len(s)\n",
    "\n",
    "print(has_unique_chars(\"abcdef\"))"
   ]
  },
  {
   "cell_type": "markdown",
   "id": "d4c8dea8",
   "metadata": {},
   "source": [
    "### 8. Convert a string to uppercase or lowercase"
   ]
  },
  {
   "cell_type": "code",
   "execution_count": null,
   "id": "a3cabf04",
   "metadata": {},
   "outputs": [],
   "source": [
    "s = \"Hello World\"\n",
    "print(s.upper(), s.lower())"
   ]
  },
  {
   "cell_type": "markdown",
   "id": "5ac38594",
   "metadata": {},
   "source": [
    "### 9. Count the number of words in a string"
   ]
  },
  {
   "cell_type": "code",
   "execution_count": null,
   "id": "1fdcfd54",
   "metadata": {},
   "outputs": [],
   "source": [
    "def word_count(s):\n",
    "    return len(s.split())\n",
    "\n",
    "print(word_count(\"Hello world! This is a test.\"))"
   ]
  },
  {
   "cell_type": "markdown",
   "id": "ff981820",
   "metadata": {},
   "source": [
    "### 10. Concatenate two strings without using + operator"
   ]
  },
  {
   "cell_type": "code",
   "execution_count": null,
   "id": "e5cee5d5",
   "metadata": {},
   "outputs": [],
   "source": [
    "def concatenate_strings(s1, s2):\n",
    "    return \"{}{}\".format(s1, s2)\n",
    "\n",
    "print(concatenate_strings(\"Hello\", \"World\"))"
   ]
  },
  {
   "cell_type": "markdown",
   "id": "eca4733b",
   "metadata": {},
   "source": [
    "## **List Operations**"
   ]
  },
  {
   "cell_type": "markdown",
   "id": "a0b3b58b",
   "metadata": {},
   "source": [
    "### 11. Remove all occurrences of a specific element from a list"
   ]
  },
  {
   "cell_type": "code",
   "execution_count": null,
   "id": "372ec33f",
   "metadata": {},
   "outputs": [],
   "source": [
    "def remove_element(lst, element):\n",
    "    return [x for x in lst if x != element]\n",
    "\n",
    "print(remove_element([1, 2, 3, 4, 3, 5], 3))"
   ]
  },
  {
   "cell_type": "markdown",
   "id": "b813144d",
   "metadata": {},
   "source": [
    "### 12. Find the second largest number in a list"
   ]
  },
  {
   "cell_type": "code",
   "execution_count": null,
   "id": "bbbedf27",
   "metadata": {},
   "outputs": [],
   "source": [
    "def second_largest(lst):\n",
    "    return sorted(set(lst))[-2] if len(set(lst)) > 1 else None\n",
    "\n",
    "print(second_largest([10, 20, 4, 45, 99]))"
   ]
  },
  {
   "cell_type": "markdown",
   "id": "a76ebc65",
   "metadata": {},
   "source": [
    "### 13. Count occurrences of each element in a list"
   ]
  },
  {
   "cell_type": "code",
   "execution_count": null,
   "id": "378280b0",
   "metadata": {},
   "outputs": [],
   "source": [
    "from collections import Counter\n",
    "\n",
    "def count_elements(lst):\n",
    "    return dict(Counter(lst))\n",
    "\n",
    "print(count_elements([1, 2, 2, 3, 3, 3, 4]))"
   ]
  },
  {
   "cell_type": "markdown",
   "id": "86edebd1",
   "metadata": {},
   "source": [
    "### 14. Reverse a list in-place without using built-in functions"
   ]
  },
  {
   "cell_type": "code",
   "execution_count": null,
   "id": "dde9163b",
   "metadata": {},
   "outputs": [],
   "source": [
    "def reverse_list(lst):\n",
    "    left, right = 0, len(lst) - 1\n",
    "    while left < right:\n",
    "        lst[left], lst[right] = lst[right], lst[left]\n",
    "        left += 1\n",
    "        right -= 1\n",
    "    return lst\n",
    "\n",
    "print(reverse_list([1, 2, 3, 4, 5]))"
   ]
  },
  {
   "cell_type": "markdown",
   "id": "ac67f864",
   "metadata": {},
   "source": [
    "### 15. Remove duplicates while preserving order"
   ]
  },
  {
   "cell_type": "code",
   "execution_count": null,
   "id": "1410a99e",
   "metadata": {},
   "outputs": [],
   "source": [
    "def remove_duplicates(lst):\n",
    "    seen = set()\n",
    "    return [x for x in lst if not (x in seen or seen.add(x))]\n",
    "\n",
    "print(remove_duplicates([1, 2, 2, 3, 4, 4, 5]))"
   ]
  },
  {
   "cell_type": "markdown",
   "id": "bc2e5e8c",
   "metadata": {},
   "source": [
    "## **Tuple and Set Operations**"
   ]
  },
  {
   "cell_type": "markdown",
   "id": "dc3b291e",
   "metadata": {},
   "source": [
    "### 21. Find common elements in two tuples"
   ]
  },
  {
   "cell_type": "code",
   "execution_count": null,
   "id": "3c2941ae",
   "metadata": {},
   "outputs": [],
   "source": [
    "def tuple_intersection(t1, t2):\n",
    "    return tuple(set(t1) & set(t2))\n",
    "\n",
    "print(tuple_intersection((1, 2, 3), (2, 3, 4)))"
   ]
  },
  {
   "cell_type": "markdown",
   "id": "1a3af5f2",
   "metadata": {},
   "source": [
    "### 22. Concatenate two tuples"
   ]
  },
  {
   "cell_type": "code",
   "execution_count": null,
   "id": "43334984",
   "metadata": {},
   "outputs": [],
   "source": [
    "def concat_tuples(t1, t2):\n",
    "    return t1 + t2\n",
    "\n",
    "print(concat_tuples((1, 2, 3), (4, 5, 6)))"
   ]
  },
  {
   "cell_type": "markdown",
   "id": "7fb77221",
   "metadata": {},
   "source": [
    "## **Dictionary Operations**"
   ]
  },
  {
   "cell_type": "markdown",
   "id": "cfee8ddb",
   "metadata": {},
   "source": [
    "### 34. Count occurrences of each word in a list"
   ]
  },
  {
   "cell_type": "code",
   "execution_count": null,
   "id": "11096386",
   "metadata": {},
   "outputs": [],
   "source": [
    "from collections import Counter\n",
    "\n",
    "def word_frequencies(words):\n",
    "    return dict(Counter(words))\n",
    "\n",
    "words = [\"apple\", \"banana\", \"apple\", \"orange\", \"banana\", \"banana\"]\n",
    "print(word_frequencies(words))"
   ]
  },
  {
   "cell_type": "markdown",
   "id": "ed2356da",
   "metadata": {},
   "source": [
    "### 35. Merge two dictionaries by adding values for common keys"
   ]
  },
  {
   "cell_type": "code",
   "execution_count": null,
   "id": "6840d425",
   "metadata": {},
   "outputs": [],
   "source": [
    "def merge_dicts(d1, d2):\n",
    "    for key, value in d2.items():\n",
    "        d1[key] = d1.get(key, 0) + value\n",
    "    return d1\n",
    "\n",
    "print(merge_dicts({\"a\": 2, \"b\": 3}, {\"b\": 4, \"c\": 5}))"
   ]
  },
  {
   "cell_type": "markdown",
   "id": "1b2666b9",
   "metadata": {},
   "source": [
    "### 36. Access a value in a nested dictionary"
   ]
  },
  {
   "cell_type": "code",
   "execution_count": null,
   "id": "8328994c",
   "metadata": {},
   "outputs": [],
   "source": [
    "def get_nested_value(d, keys):\n",
    "    for key in keys:\n",
    "        d = d.get(key)\n",
    "        if d is None:\n",
    "            return None\n",
    "    return d\n",
    "\n",
    "nested_dict = {\"a\": {\"b\": {\"c\": 42}}}\n",
    "print(get_nested_value(nested_dict, [\"a\", \"b\", \"c\"]))"
   ]
  },
  {
   "cell_type": "markdown",
   "id": "a33912ba",
   "metadata": {},
   "source": [
    "### 37. Return a dictionary sorted by values"
   ]
  },
  {
   "cell_type": "code",
   "execution_count": null,
   "id": "c93f6d5e",
   "metadata": {},
   "outputs": [],
   "source": [
    "def sort_dict_by_value(d, descending=False):\n",
    "    return dict(sorted(d.items(), key=lambda item: item[1], reverse=descending))\n",
    "\n",
    "print(sort_dict_by_value({\"a\": 3, \"b\": 1, \"c\": 2}))\n",
    "print(sort_dict_by_value({\"a\": 3, \"b\": 1, \"c\": 2}, descending=True))"
   ]
  },
  {
   "cell_type": "markdown",
   "id": "3daeaa44",
   "metadata": {},
   "source": [
    "### 38. Invert a dictionary handling duplicate values"
   ]
  },
  {
   "cell_type": "code",
   "execution_count": null,
   "id": "fe1f4f1f",
   "metadata": {},
   "outputs": [],
   "source": [
    "def invert_dict(d):\n",
    "    inverted = {}\n",
    "    for key, value in d.items():\n",
    "        inverted.setdefault(value, []).append(key)\n",
    "    return inverted\n",
    "\n",
    "print(invert_dict({\"a\": 1, \"b\": 2, \"c\": 1}))"
   ]
  }
 ],
 "metadata": {},
 "nbformat": 4,
 "nbformat_minor": 5
}
